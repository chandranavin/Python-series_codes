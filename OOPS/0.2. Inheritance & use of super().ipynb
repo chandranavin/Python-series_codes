{
 "cells": [
  {
   "cell_type": "code",
   "execution_count": 18,
   "id": "0a83809b",
   "metadata": {},
   "outputs": [],
   "source": [
    "# 1. - single-level inheritance\n",
    "# 2. - multi-level inheritance\n",
    "# 3. - multiple inheritance"
   ]
  },
  {
   "cell_type": "code",
   "execution_count": 19,
   "id": "8c69089d",
   "metadata": {},
   "outputs": [
    {
     "name": "stdout",
     "output_type": "stream",
     "text": [
      "This is first class\n",
      "This is second of first class\n",
      "This is second class\n",
      "This is second of second class\n",
      "This is third class\n",
      "This is second od third class\n"
     ]
    },
    {
     "ename": "AttributeError",
     "evalue": "'B' object has no attribute 'f1'",
     "output_type": "error",
     "traceback": [
      "\u001b[1;31m---------------------------------------------------------------------------\u001b[0m",
      "\u001b[1;31mAttributeError\u001b[0m                            Traceback (most recent call last)",
      "Input \u001b[1;32mIn [19]\u001b[0m, in \u001b[0;36m<module>\u001b[1;34m\u001b[0m\n\u001b[0;32m     26\u001b[0m c1\u001b[38;5;241m.\u001b[39mf3()\n\u001b[0;32m     27\u001b[0m c1\u001b[38;5;241m.\u001b[39mf32()\n\u001b[1;32m---> 28\u001b[0m \u001b[43mb1\u001b[49m\u001b[38;5;241;43m.\u001b[39;49m\u001b[43mf1\u001b[49m()\n",
      "\u001b[1;31mAttributeError\u001b[0m: 'B' object has no attribute 'f1'"
     ]
    }
   ],
   "source": [
    "class A:                                              # super class\n",
    "    def f1(self):\n",
    "        print(\"This is first class\")\n",
    "    def f12(self):\n",
    "        print(\"This is second of first class\")\n",
    "    \n",
    "class B:                                            # sub class\n",
    "    def f2(self):\n",
    "        print(\"This is second class\")\n",
    "    def f22(self):\n",
    "        print(\"This is second of second class\")\n",
    "    \n",
    "class C:                                         # sub class\n",
    "    def f3(self):\n",
    "        print(\"This is third class\")\n",
    "    def f32(Self):\n",
    "        print(\"This is second od third class\")\n",
    "        \n",
    "a1 = A()\n",
    "b1 = B()\n",
    "c1 = C()\n",
    "a1.f1()\n",
    "a1.f12()\n",
    "b1.f2()\n",
    "b1.f22()\n",
    "c1.f3()\n",
    "c1.f32()\n",
    "b1.f1() # here it will throw an error because we have not used inheritance property---- we have used in below code"
   ]
  },
  {
   "cell_type": "code",
   "execution_count": 20,
   "id": "0e3076d5",
   "metadata": {},
   "outputs": [
    {
     "name": "stdout",
     "output_type": "stream",
     "text": [
      "This is first class\n",
      "This is second of first class\n",
      "This is second class\n",
      "This is second of second class\n",
      "This is third class\n",
      "This is second od third class\n",
      "This is first class\n"
     ]
    }
   ],
   "source": [
    "# single-level inheritance----in this we inherit only one class to other \n",
    "class A:\n",
    "    def f1(self):\n",
    "        print(\"This is first class\")\n",
    "    def f12(self):\n",
    "        print(\"This is second of first class\")\n",
    "    \n",
    "class B(A):   # here will have all the features of A class\n",
    "    def f2(self):\n",
    "        print(\"This is second class\")\n",
    "    def f22(self):\n",
    "        print(\"This is second of second class\")\n",
    "    \n",
    "class C:\n",
    "    def f3(self):\n",
    "        print(\"This is third class\")\n",
    "    def f32(Self):\n",
    "        print(\"This is second od third class\")\n",
    "        \n",
    "a1 = A()\n",
    "b1 = B()\n",
    "c1 = C()\n",
    "a1.f1()\n",
    "a1.f12()\n",
    "b1.f2()\n",
    "b1.f22()\n",
    "c1.f3()\n",
    "c1.f32()\n",
    "b1.f1()  # we have called property of first class A in second class B using single-level inheritance\n",
    "# it will not throw any error like upper code because we have inherit the property of A in B class as single level inheritance"
   ]
  },
  {
   "cell_type": "code",
   "execution_count": 21,
   "id": "56c97233",
   "metadata": {},
   "outputs": [
    {
     "name": "stdout",
     "output_type": "stream",
     "text": [
      "This is first class\n",
      "This is second of first class\n",
      "This is second class\n",
      "This is second of second class\n",
      "This is third class\n",
      "This is second od third class\n",
      "This is first class\n",
      "This is second of first class\n"
     ]
    }
   ],
   "source": [
    "# multi-level inheritance----in this we inherit multiple class to other class\n",
    "class A:\n",
    "    def f1(self):\n",
    "        print(\"This is first class\")\n",
    "    def f12(self):\n",
    "        print(\"This is second of first class\")\n",
    "    \n",
    "class B(A):   # here we can access all the features of class A\n",
    "    def f2(self):\n",
    "        print(\"This is second class\")\n",
    "    def f22(self):\n",
    "        print(\"This is second of second class\")\n",
    "    \n",
    "class C(B):   # here we can access all the features of class A and B both because we have inherited A in B and B in C\n",
    "    def f3(self):\n",
    "        print(\"This is third class\")\n",
    "    def f32(Self):\n",
    "        print(\"This is second od third class\")\n",
    "        \n",
    "a1 = A()\n",
    "b1 = B()\n",
    "c1 = C()\n",
    "a1.f1()\n",
    "a1.f12()\n",
    "b1.f2()\n",
    "b1.f22()\n",
    "c1.f3()\n",
    "c1.f32()\n",
    "b1.f1()  # we have called property of first class A in second class B \n",
    "c1.f12()  # we have called property of first class A in third class C by using multi-level inheritance"
   ]
  },
  {
   "cell_type": "code",
   "execution_count": 22,
   "id": "bfb0a29f",
   "metadata": {},
   "outputs": [
    {
     "name": "stdout",
     "output_type": "stream",
     "text": [
      "This is first class\n",
      "This is second of first class\n",
      "This is second class\n",
      "This is second of second class\n",
      "This is third class\n",
      "This is second od third class\n",
      "This is first class\n",
      "This is second of second class\n"
     ]
    },
    {
     "ename": "AttributeError",
     "evalue": "'B' object has no attribute 'f1'",
     "output_type": "error",
     "traceback": [
      "\u001b[1;31m---------------------------------------------------------------------------\u001b[0m",
      "\u001b[1;31mAttributeError\u001b[0m                            Traceback (most recent call last)",
      "Input \u001b[1;32mIn [22]\u001b[0m, in \u001b[0;36m<module>\u001b[1;34m\u001b[0m\n\u001b[0;32m     29\u001b[0m c1\u001b[38;5;241m.\u001b[39mf1()  \u001b[38;5;66;03m# we have called property of class A & B in class C hence, we can use properties of class A & B in class C\u001b[39;00m\n\u001b[0;32m     30\u001b[0m c1\u001b[38;5;241m.\u001b[39mf22() \n\u001b[1;32m---> 31\u001b[0m \u001b[43mb1\u001b[49m\u001b[38;5;241;43m.\u001b[39;49m\u001b[43mf1\u001b[49m()\n",
      "\u001b[1;31mAttributeError\u001b[0m: 'B' object has no attribute 'f1'"
     ]
    }
   ],
   "source": [
    "# multiple inheritance----in this we inherit miltiple classes to other class\n",
    "class A:\n",
    "    def f1(self):\n",
    "        print(\"This is first class\")\n",
    "    def f12(self):\n",
    "        print(\"This is second of first class\")\n",
    "    \n",
    "class B:   # here we are not inheriting any class\n",
    "    def f2(self):\n",
    "        print(\"This is second class\")\n",
    "    def f22(self):\n",
    "        print(\"This is second of second class\")\n",
    "    \n",
    "class C(A, B):# here we are inheriting two class A & B in C class, we can access all the property of class A and B both in class c\n",
    "    def f3(self):\n",
    "        print(\"This is third class\")\n",
    "    def f32(Self):\n",
    "        print(\"This is second od third class\")\n",
    "        \n",
    "a1 = A()\n",
    "b1 = B()\n",
    "c1 = C()\n",
    "a1.f1()\n",
    "a1.f12()\n",
    "b1.f2()\n",
    "b1.f22()\n",
    "c1.f3()\n",
    "c1.f32()\n",
    "c1.f1()  # we have called property of class A & B in class C hence, we can use properties of class A & B in class C\n",
    "c1.f22() \n",
    "b1.f1() # but here we cannot use property of class A in class B because we have used inheritance in class B and it will throw an error"
   ]
  },
  {
   "cell_type": "code",
   "execution_count": 33,
   "id": "acc3ab8b",
   "metadata": {},
   "outputs": [
    {
     "name": "stdout",
     "output_type": "stream",
     "text": [
      "First init method\n",
      "second init method\n",
      "second init method\n",
      "Third init method\n"
     ]
    }
   ],
   "source": [
    "# use of super()\n",
    "class A:                                               # super class\n",
    "    def __init__(self):\n",
    "        print(\"First init method\")\n",
    "    def f1(self):\n",
    "        print(\"This is first class\")\n",
    "    def f12(self):\n",
    "        print(\"This is second of first class\")\n",
    "    \n",
    "class B(A):                                            # sub class\n",
    "    def __init__(self):\n",
    "        print(\"second init method\")\n",
    "    def f2(self):\n",
    "        print(\"This is second class\")\n",
    "    def f22(self):\n",
    "        print(\"This is second of second class\")\n",
    "    \n",
    "class C(B):                                         # sub class\n",
    "    def __init__(self):\n",
    "        super().__init__()             # super() is used to the get the constructor or method of super class\n",
    "        print(\"Third init method\")\n",
    "    def f3(self):\n",
    "        print(\"This is third class\")\n",
    "    def f32(Self):\n",
    "        print(\"This is second od third class\")\n",
    "        \n",
    "a1 = A()  # we will get init of class A\n",
    "b1 = B()  # we will get the init of class b\n",
    "c1 = C()   # in this we will get the init of class B and C beacause B is super class of class C and we have used super() to get the init of class B\n",
    "\n",
    "\n",
    "\n",
    "# it's not like that we use only constructor __init__ to use with super() we can use any method also name to get that"
   ]
  },
  {
   "cell_type": "code",
   "execution_count": null,
   "id": "cde185cd",
   "metadata": {},
   "outputs": [],
   "source": []
  }
 ],
 "metadata": {
  "kernelspec": {
   "display_name": "Python 3 (ipykernel)",
   "language": "python",
   "name": "python3"
  },
  "language_info": {
   "codemirror_mode": {
    "name": "ipython",
    "version": 3
   },
   "file_extension": ".py",
   "mimetype": "text/x-python",
   "name": "python",
   "nbconvert_exporter": "python",
   "pygments_lexer": "ipython3",
   "version": "3.10.1"
  }
 },
 "nbformat": 4,
 "nbformat_minor": 5
}
