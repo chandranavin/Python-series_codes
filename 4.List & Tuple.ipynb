{
 "cells": [
  {
   "cell_type": "code",
   "execution_count": 19,
   "id": "904f1591",
   "metadata": {},
   "outputs": [
    {
     "name": "stdout",
     "output_type": "stream",
     "text": [
      "1 8\n",
      "8 1\n"
     ]
    }
   ],
   "source": [
    "#swap two no's\n",
    "a=1\n",
    "b=8\n",
    "print(a,b)\n",
    "a,b= b,a\n",
    "print(a,b)"
   ]
  },
  {
   "cell_type": "code",
   "execution_count": 20,
   "id": "bb2bd4bd",
   "metadata": {},
   "outputs": [],
   "source": [
    "#list are mutable(we can update)"
   ]
  },
  {
   "cell_type": "code",
   "execution_count": 21,
   "id": "81b55ebe",
   "metadata": {},
   "outputs": [
    {
     "name": "stdout",
     "output_type": "stream",
     "text": [
      "['Maths', 'Science', 'Hindi', 'English']\n",
      "Hindi\n",
      "1. [20, 50, 80, 50]\n",
      "2. [20, 50, 80, 50]\n",
      "3. 80\n",
      "4. [50, 80, 50]\n",
      "5. [20, 80]\n",
      "6. Max is  80\n",
      "7. Min is  20\n",
      "8.  [50, 80, 50, 20]\n",
      "reverse list.  [70, 80, 50, 20]\n",
      "sorted list.  [20, 55, 70, 80]\n",
      "4\n"
     ]
    }
   ],
   "source": [
    "subject= [\"Maths\", \"Science\", \"Hindi\", \"English\"]\n",
    "print(subject)\n",
    "print(subject[2])\n",
    "\n",
    "numbers= [20, 50, 80, 50]\n",
    "print(\"1.\",numbers)\n",
    "print(\"2.\",numbers[:])\n",
    "print(\"3.\",numbers[2])\n",
    "print(\"4.\",numbers[1:5])\n",
    "print(\"5.\",numbers[::2])\n",
    "\n",
    "print(\"6. Max is \",max(numbers))\n",
    "print(\"7. Min is \",min(numbers))\n",
    "print(\"8. \", numbers[::-1])\n",
    "\n",
    "numbers.pop()\n",
    "numbers.append(70)\n",
    "numbers.reverse()\n",
    "print(\"reverse list. \",numbers)\n",
    "\n",
    "numbers.insert(2,55)\n",
    "numbers.remove(50)\n",
    "numbers.sort()\n",
    "print(\"sorted list. \",numbers)\n",
    "\n",
    "print(len(numbers))"
   ]
  },
  {
   "cell_type": "code",
   "execution_count": 22,
   "id": "81fc9c44",
   "metadata": {},
   "outputs": [],
   "source": [
    "#tuples are immutable (we cannot update)\n",
    "#to create a single vallued tuple we use a comma after the that no."
   ]
  },
  {
   "cell_type": "code",
   "execution_count": 23,
   "id": "52958705",
   "metadata": {},
   "outputs": [
    {
     "name": "stdout",
     "output_type": "stream",
     "text": [
      "(1,)\n",
      "(1, 2, 3, 4, 5, 6, 7, 8)\n",
      "6\n",
      "(2, 3, 4, 5, 6, 7, 8)\n",
      "(8, 7, 6, 5, 4, 3, 2, 1)\n"
     ]
    }
   ],
   "source": [
    "tp=(1,)\n",
    "tp1=(1,2,3,4,5,6,7,8)\n",
    "print(tp)\n",
    "print(tp1)\n",
    "print(tp1[5])\n",
    "print(tp1[1:8])\n",
    "print(tp1[::-1])"
   ]
  },
  {
   "cell_type": "code",
   "execution_count": null,
   "id": "d8ed21a2",
   "metadata": {},
   "outputs": [],
   "source": []
  }
 ],
 "metadata": {
  "kernelspec": {
   "display_name": "Python 3 (ipykernel)",
   "language": "python",
   "name": "python3"
  },
  "language_info": {
   "codemirror_mode": {
    "name": "ipython",
    "version": 3
   },
   "file_extension": ".py",
   "mimetype": "text/x-python",
   "name": "python",
   "nbconvert_exporter": "python",
   "pygments_lexer": "ipython3",
   "version": "3.10.1"
  }
 },
 "nbformat": 4,
 "nbformat_minor": 5
}
