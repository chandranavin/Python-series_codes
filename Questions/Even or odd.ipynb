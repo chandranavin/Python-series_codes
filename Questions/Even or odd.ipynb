{
 "cells": [
  {
   "cell_type": "code",
   "execution_count": 5,
   "id": "552c39e5",
   "metadata": {},
   "outputs": [
    {
     "name": "stdout",
     "output_type": "stream",
     "text": [
      "1 =-odd\n",
      "2 -Even 3 =-odd\n",
      "4 -Even 5 =-odd\n",
      "6 -Even 7 =-odd\n",
      "8 -Even 9 =-odd\n",
      "10 -Even 11 =-odd\n",
      "12 -Even 13 =-odd\n",
      "14 -Even 15 =-odd\n",
      "16 -Even 17 =-odd\n",
      "18 -Even 19 =-odd\n"
     ]
    }
   ],
   "source": [
    "for i in range (1,20):\n",
    "    if i%2==0:\n",
    "        print(i,\"-Even\", end=\" \")\n",
    "    else:\n",
    "        print(i,\"=-odd\")"
   ]
  },
  {
   "cell_type": "code",
   "execution_count": null,
   "id": "aaba3690",
   "metadata": {},
   "outputs": [],
   "source": []
  }
 ],
 "metadata": {
  "kernelspec": {
   "display_name": "Python 3 (ipykernel)",
   "language": "python",
   "name": "python3"
  },
  "language_info": {
   "codemirror_mode": {
    "name": "ipython",
    "version": 3
   },
   "file_extension": ".py",
   "mimetype": "text/x-python",
   "name": "python",
   "nbconvert_exporter": "python",
   "pygments_lexer": "ipython3",
   "version": "3.10.1"
  }
 },
 "nbformat": 4,
 "nbformat_minor": 5
}
