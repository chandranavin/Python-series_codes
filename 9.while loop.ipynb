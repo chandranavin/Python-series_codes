{
 "cells": [
  {
   "cell_type": "code",
   "execution_count": 22,
   "id": "e1fdc77d",
   "metadata": {},
   "outputs": [],
   "source": [
    "#print from 0 to n"
   ]
  },
  {
   "cell_type": "code",
   "execution_count": 23,
   "id": "7243a7b8",
   "metadata": {},
   "outputs": [
    {
     "name": "stdout",
     "output_type": "stream",
     "text": [
      "22\n",
      "0,1,2,3,4,5,6,7,8,9,10,11,12,13,14,15,16,17,18,19,20,21,22,"
     ]
    }
   ],
   "source": [
    "n= int(input())\n",
    "i = 0\n",
    "while(i<=n):\n",
    "    print(i, end=\",\")\n",
    "    i=i+1"
   ]
  },
  {
   "cell_type": "code",
   "execution_count": 24,
   "id": "ff54fa67",
   "metadata": {},
   "outputs": [],
   "source": [
    "#print from n to 0"
   ]
  },
  {
   "cell_type": "code",
   "execution_count": 25,
   "id": "4a858c6b",
   "metadata": {},
   "outputs": [
    {
     "name": "stdout",
     "output_type": "stream",
     "text": [
      "20\n",
      "20,19,18,17,16,15,14,13,12,11,10,9,8,7,6,5,4,3,2,1,0,"
     ]
    }
   ],
   "source": [
    "n = int(input())\n",
    "i=0\n",
    "while(n>=i):\n",
    "    print(n, end=\",\")\n",
    "    n=n-1"
   ]
  },
  {
   "cell_type": "code",
   "execution_count": null,
   "id": "ae250139",
   "metadata": {},
   "outputs": [],
   "source": []
  }
 ],
 "metadata": {
  "kernelspec": {
   "display_name": "Python 3 (ipykernel)",
   "language": "python",
   "name": "python3"
  },
  "language_info": {
   "codemirror_mode": {
    "name": "ipython",
    "version": 3
   },
   "file_extension": ".py",
   "mimetype": "text/x-python",
   "name": "python",
   "nbconvert_exporter": "python",
   "pygments_lexer": "ipython3",
   "version": "3.10.1"
  }
 },
 "nbformat": 4,
 "nbformat_minor": 5
}
