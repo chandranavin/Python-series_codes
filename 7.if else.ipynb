{
 "cells": [
  {
   "cell_type": "code",
   "execution_count": 31,
   "id": "0d07752a",
   "metadata": {},
   "outputs": [
    {
     "name": "stdout",
     "output_type": "stream",
     "text": [
      "5\n",
      "Lesser\n"
     ]
    }
   ],
   "source": [
    "var2 =56\n",
    "var3 =int(input())\n",
    "\n",
    "if var3>var2:\n",
    "    print(\"Greater\")\n",
    "elif var3==var2:\n",
    "    print(\"Equal\")\n",
    "else:\n",
    "    print(\"Lesser\")"
   ]
  },
  {
   "cell_type": "code",
   "execution_count": 32,
   "id": "f74516bd",
   "metadata": {},
   "outputs": [
    {
     "name": "stdout",
     "output_type": "stream",
     "text": [
      "Yes\n",
      "No\n"
     ]
    }
   ],
   "source": [
    "l1 = [1,2,3,4,5,6]\n",
    "\n",
    "if 5 in l1:\n",
    "    print(\"Yes\")\n",
    "if 15 not in l1:\n",
    "    print(\"No\")"
   ]
  },
  {
   "cell_type": "code",
   "execution_count": 33,
   "id": "541c4d0d",
   "metadata": {},
   "outputs": [],
   "source": [
    "#can Drive after 18, cannnot drive below 18, can get license at 18, shouldn't drive after 65, age out-of boundary agter 110"
   ]
  },
  {
   "cell_type": "code",
   "execution_count": 34,
   "id": "b38a943d",
   "metadata": {},
   "outputs": [
    {
     "name": "stdout",
     "output_type": "stream",
     "text": [
      "\n",
      "Please enter your age:- 18\n",
      "\n",
      "You can get your license ready \n",
      " and You can Drive\n"
     ]
    }
   ],
   "source": [
    "age = int(input(\"\\nPlease enter your age:- \"))\n",
    "if age<18:\n",
    "    print(\"\\nYou cannot drive\")\n",
    "elif age==18:\n",
    "    print(\"\\nYou can get your license ready \\n and You can Drive\")\n",
    "else:\n",
    "    if age>65:\n",
    "        if age>110:\n",
    "            print(\"\\nThe age is out boundary\")\n",
    "        else:\n",
    "            print(\"\\nYou are old age person\\n You shouldn't Drive\")\n",
    "    else:\n",
    "        print(\"\\nYou can drive\")"
   ]
  },
  {
   "cell_type": "code",
   "execution_count": 35,
   "id": "e15c14e3",
   "metadata": {},
   "outputs": [],
   "source": [
    "#even or odd"
   ]
  },
  {
   "cell_type": "code",
   "execution_count": 36,
   "id": "49c91a8a",
   "metadata": {},
   "outputs": [
    {
     "name": "stdout",
     "output_type": "stream",
     "text": [
      "55\n",
      "Odd\n"
     ]
    }
   ],
   "source": [
    "num = int(input())\n",
    "if num%2==0:\n",
    "    print(\"Even\")\n",
    "else:\n",
    "    print(\"Odd\")"
   ]
  },
  {
   "cell_type": "code",
   "execution_count": 37,
   "id": "309df373",
   "metadata": {},
   "outputs": [],
   "source": [
    "#positive or not"
   ]
  },
  {
   "cell_type": "code",
   "execution_count": 39,
   "id": "e960653e",
   "metadata": {},
   "outputs": [
    {
     "name": "stdout",
     "output_type": "stream",
     "text": [
      "-895\n",
      "negative\n"
     ]
    }
   ],
   "source": [
    "num = float(input())\n",
    "if num>0:\n",
    "    print(\"Positive\")\n",
    "elif num==0:\n",
    "    print(\"Zero\")\n",
    "else:\n",
    "    print(\"negative\")"
   ]
  },
  {
   "cell_type": "code",
   "execution_count": 40,
   "id": "3e95a761",
   "metadata": {},
   "outputs": [],
   "source": [
    "#valid traingle or not"
   ]
  },
  {
   "cell_type": "code",
   "execution_count": 41,
   "id": "32ee8718",
   "metadata": {},
   "outputs": [
    {
     "name": "stdout",
     "output_type": "stream",
     "text": [
      "88\n",
      "5\n",
      "0\n",
      "Valid Traingle\n"
     ]
    }
   ],
   "source": [
    "a = float(input())\n",
    "b = float(input())\n",
    "c = float(input())\n",
    "if a+b>c:\n",
    "    print(\"Valid Traingle\")\n",
    "elif b+c>a:\n",
    "    print(\"Valid Traingle\")\n",
    "elif a+c>b:\n",
    "    print(\"Valid Traingle\")\n",
    "else:\n",
    "    print(\"Not a Valid Traingle\")"
   ]
  },
  {
   "cell_type": "code",
   "execution_count": null,
   "id": "8fa3e653",
   "metadata": {},
   "outputs": [],
   "source": []
  }
 ],
 "metadata": {
  "kernelspec": {
   "display_name": "Python 3 (ipykernel)",
   "language": "python",
   "name": "python3"
  },
  "language_info": {
   "codemirror_mode": {
    "name": "ipython",
    "version": 3
   },
   "file_extension": ".py",
   "mimetype": "text/x-python",
   "name": "python",
   "nbconvert_exporter": "python",
   "pygments_lexer": "ipython3",
   "version": "3.10.1"
  }
 },
 "nbformat": 4,
 "nbformat_minor": 5
}
