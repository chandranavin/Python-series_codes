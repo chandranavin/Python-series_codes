{
 "cells": [
  {
   "cell_type": "code",
   "execution_count": 1,
   "id": "20ef00cf",
   "metadata": {},
   "outputs": [
    {
     "name": "stdout",
     "output_type": "stream",
     "text": [
      "165\n"
     ]
    }
   ],
   "source": [
    "l1 = [165,164,16,416,641,461,1,45,4,541,641,69,416,4,98,741,6,946,249,16,961,496,46,46]\n",
    "# print(max(l1))\n",
    "# 1st method***********************\n",
    "# l1.sort()\n",
    "# l1.pop()\n",
    "# print(max(l1))\n",
    "# 2nd method***********************\n",
    "# l1.remove(max(l1))\n",
    "# print(max(l1))\n",
    "# 3rd method***************************\n",
    "l1 = list(set(l1))\n",
    "l1.sort()\n",
    "l1.reverse()\n",
    "print(l1[10-1])\n",
    "# 4th method***********************\n",
    "# l1.sort()\n",
    "# a = l1[::-1]\n",
    "# print(a[1])"
   ]
  },
  {
   "cell_type": "code",
   "execution_count": null,
   "id": "e11a7233",
   "metadata": {},
   "outputs": [],
   "source": []
  }
 ],
 "metadata": {
  "kernelspec": {
   "display_name": "Python 3 (ipykernel)",
   "language": "python",
   "name": "python3"
  },
  "language_info": {
   "codemirror_mode": {
    "name": "ipython",
    "version": 3
   },
   "file_extension": ".py",
   "mimetype": "text/x-python",
   "name": "python",
   "nbconvert_exporter": "python",
   "pygments_lexer": "ipython3",
   "version": "3.10.1"
  }
 },
 "nbformat": 4,
 "nbformat_minor": 5
}
