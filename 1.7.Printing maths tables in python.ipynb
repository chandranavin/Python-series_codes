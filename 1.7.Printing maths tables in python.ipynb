{
 "cells": [
  {
   "cell_type": "code",
   "execution_count": 16,
   "id": "e6ea825a",
   "metadata": {},
   "outputs": [
    {
     "name": "stdout",
     "output_type": "stream",
     "text": [
      "enter the no of which you want to get table:- 8\n",
      "8 * 1 = 8\n",
      "8 * 2 = 16\n",
      "8 * 3 = 24\n",
      "8 * 4 = 32\n",
      "8 * 5 = 40\n",
      "8 * 6 = 48\n",
      "8 * 7 = 56\n",
      "8 * 8 = 64\n",
      "8 * 9 = 72\n",
      "8 * 10 = 80\n"
     ]
    }
   ],
   "source": [
    "a  = int(input(\"enter the no of which you want to get table:- \"))\n",
    "i  = 1\n",
    "no = 1\n",
    "\n",
    "while i <= 10 :\n",
    "    print(a,\"*\",no, \"=\",a*i)\n",
    "    no += 1\n",
    "    i  += 1\n"
   ]
  },
  {
   "cell_type": "code",
   "execution_count": 21,
   "id": "2008752c",
   "metadata": {},
   "outputs": [
    {
     "name": "stdout",
     "output_type": "stream",
     "text": [
      "enter the no of which you want to get table:- 13\n",
      "enter the no till which you want the table:- 20\n",
      "13 * 1 = 13\n",
      "13 * 2 = 26\n",
      "13 * 3 = 39\n",
      "13 * 4 = 52\n",
      "13 * 5 = 65\n",
      "13 * 6 = 78\n",
      "13 * 7 = 91\n",
      "13 * 8 = 104\n",
      "13 * 9 = 117\n",
      "13 * 10 = 130\n",
      "13 * 11 = 143\n",
      "13 * 12 = 156\n",
      "13 * 13 = 169\n",
      "13 * 14 = 182\n",
      "13 * 15 = 195\n",
      "13 * 16 = 208\n",
      "13 * 17 = 221\n",
      "13 * 18 = 234\n",
      "13 * 19 = 247\n",
      "13 * 20 = 260\n"
     ]
    }
   ],
   "source": [
    "a  = int(input(\"enter the no of which you want to get table:- \"))\n",
    "i  = 1\n",
    "no = 1\n",
    "tb = int(input(\"enter the no till which you want the table:- \"))\n",
    "\n",
    "while i <= tb :\n",
    "    print(a,\"*\",no, \"=\",a*i)\n",
    "    no += 1\n",
    "    i  += 1\n"
   ]
  },
  {
   "cell_type": "code",
   "execution_count": null,
   "id": "c1dbcf97",
   "metadata": {},
   "outputs": [],
   "source": []
  }
 ],
 "metadata": {
  "kernelspec": {
   "display_name": "Python 3 (ipykernel)",
   "language": "python",
   "name": "python3"
  },
  "language_info": {
   "codemirror_mode": {
    "name": "ipython",
    "version": 3
   },
   "file_extension": ".py",
   "mimetype": "text/x-python",
   "name": "python",
   "nbconvert_exporter": "python",
   "pygments_lexer": "ipython3",
   "version": "3.10.1"
  }
 },
 "nbformat": 4,
 "nbformat_minor": 5
}
