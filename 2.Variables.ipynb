{
 "cells": [
  {
   "cell_type": "code",
   "execution_count": 1,
   "id": "d3ddb043",
   "metadata": {},
   "outputs": [
    {
     "name": "stdout",
     "output_type": "stream",
     "text": [
      "<class 'str'>\n",
      "<class 'int'>\n",
      "<class 'float'>\n"
     ]
    }
   ],
   "source": [
    "variable1= \"Hello World\"\n",
    "variable2= 4\n",
    "variable3=4.5\n",
    "\n",
    "print(type(variable1))\n",
    "print(type(variable2))\n",
    "print(type(variable3))"
   ]
  },
  {
   "cell_type": "code",
   "execution_count": 10,
   "id": "60a0917a",
   "metadata": {},
   "outputs": [
    {
     "data": {
      "text/plain": [
       "'for typecasting we use\\nstr()\\nint()\\nfloat()\\n'"
      ]
     },
     "execution_count": 10,
     "metadata": {},
     "output_type": "execute_result"
    }
   ],
   "source": [
    "#typecasting\n",
    "\"\"\"for typecasting we use\n",
    "str()\n",
    "int()\n",
    "float()\n",
    "\"\"\""
   ]
  },
  {
   "cell_type": "code",
   "execution_count": 15,
   "id": "c64b96fa",
   "metadata": {},
   "outputs": [
    {
     "name": "stdout",
     "output_type": "stream",
     "text": [
      "100\n",
      "100100100100100100100100100\n"
     ]
    }
   ],
   "source": [
    "variable1=\"55\"\n",
    "variable2=\"45\"\n",
    "print(int(variable1)+int(variable2))\n",
    "# to print this multiple time...\n",
    "print(9*str(int(variable1)+int(variable2)))"
   ]
  },
  {
   "cell_type": "code",
   "execution_count": 16,
   "id": "e78cca9c",
   "metadata": {},
   "outputs": [],
   "source": [
    "#to take input we use- input()\n",
    "#we can use int(input()) to get int and so on..."
   ]
  },
  {
   "cell_type": "code",
   "execution_count": 25,
   "id": "77f8fcad",
   "metadata": {},
   "outputs": [
    {
     "name": "stdout",
     "output_type": "stream",
     "text": [
      "Enter any value\n",
      "hello\n",
      "hello\n",
      "Enter the int value\n",
      "55\n",
      "55\n"
     ]
    }
   ],
   "source": [
    "print(\"Enter any value\")\n",
    "ip=input()\n",
    "print(ip)\n",
    "\n",
    "print(\"Enter the int value\")\n",
    "ip2=int(input())\n",
    "print(ip2)"
   ]
  },
  {
   "cell_type": "code",
   "execution_count": 26,
   "id": "a20d02f9",
   "metadata": {},
   "outputs": [],
   "source": [
    "#simple calculator for adding two no's"
   ]
  },
  {
   "cell_type": "code",
   "execution_count": 30,
   "id": "fa2ef86c",
   "metadata": {},
   "outputs": [
    {
     "name": "stdout",
     "output_type": "stream",
     "text": [
      "Enter the first no\n",
      "4\n",
      "Enter the second no\n",
      "2\n",
      "sum of two no. is:-  6\n"
     ]
    }
   ],
   "source": [
    "print(\"Enter the first no\")\n",
    "num1=int(input())\n",
    "print(\"Enter the second no\")\n",
    "num2=int(input())\n",
    "print(\"sum of two no. is:- \", num1+num2 )"
   ]
  },
  {
   "cell_type": "code",
   "execution_count": null,
   "id": "c39b269d",
   "metadata": {},
   "outputs": [],
   "source": []
  }
 ],
 "metadata": {
  "kernelspec": {
   "display_name": "Python 3 (ipykernel)",
   "language": "python",
   "name": "python3"
  },
  "language_info": {
   "codemirror_mode": {
    "name": "ipython",
    "version": 3
   },
   "file_extension": ".py",
   "mimetype": "text/x-python",
   "name": "python",
   "nbconvert_exporter": "python",
   "pygments_lexer": "ipython3",
   "version": "3.10.1"
  }
 },
 "nbformat": 4,
 "nbformat_minor": 5
}
