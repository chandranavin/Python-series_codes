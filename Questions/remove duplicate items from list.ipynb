{
 "cells": [
  {
   "cell_type": "code",
   "execution_count": 1,
   "id": "78ae3d35",
   "metadata": {},
   "outputs": [
    {
     "name": "stdout",
     "output_type": "stream",
     "text": [
      "[32, 12, 45, 15, 52, 54, 22]\n",
      "<class 'list'>\n"
     ]
    }
   ],
   "source": [
    "list1 = [12,12,45,54,52,52,45,32,32,12,15,15,22,22,22]\n",
    "l1 = set(list1)                           # we need to typecast the list into set as set datastructure has no dublicate value\n",
    "l1 = list(l1)                                       # and again will typecast the set into list\n",
    "print(l1)\n",
    "print(type(l1))"
   ]
  },
  {
   "cell_type": "code",
   "execution_count": 2,
   "id": "badb843c",
   "metadata": {},
   "outputs": [
    {
     "name": "stdout",
     "output_type": "stream",
     "text": [
      "[32, 12, 45, 15, 52, 54, 22]\n",
      "<class 'list'>\n"
     ]
    }
   ],
   "source": [
    "list1 = [12,12,45,54,52,52,45,32,32,12,15,15,22,22,22]\n",
    "l1 = list(set(list1))    # we need to typecast the list into set as set datastructure has no dublicate value and typecast the set into list\n",
    "print(l1)\n",
    "print(type(l1))"
   ]
  },
  {
   "cell_type": "code",
   "execution_count": null,
   "id": "20117891",
   "metadata": {},
   "outputs": [],
   "source": []
  }
 ],
 "metadata": {
  "kernelspec": {
   "display_name": "Python 3 (ipykernel)",
   "language": "python",
   "name": "python3"
  },
  "language_info": {
   "codemirror_mode": {
    "name": "ipython",
    "version": 3
   },
   "file_extension": ".py",
   "mimetype": "text/x-python",
   "name": "python",
   "nbconvert_exporter": "python",
   "pygments_lexer": "ipython3",
   "version": "3.10.4"
  }
 },
 "nbformat": 4,
 "nbformat_minor": 5
}
