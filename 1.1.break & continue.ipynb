{
 "cells": [
  {
   "cell_type": "code",
   "execution_count": 15,
   "id": "9122df56",
   "metadata": {},
   "outputs": [],
   "source": [
    "#while no is < =  100 it will ask for input"
   ]
  },
  {
   "cell_type": "code",
   "execution_count": 14,
   "id": "87372fd4",
   "metadata": {},
   "outputs": [
    {
     "name": "stdout",
     "output_type": "stream",
     "text": [
      "Enter no greater than 100: 14\n",
      "Enter no greater than 100: 64\n",
      "Enter no greater than 100: 79\n",
      "Enter no greater than 100: 2\n",
      "Enter no greater than 100: 12\n",
      "Enter no greater than 100: 64\n",
      "Enter no greater than 100: 113\n",
      "You have printed no. greater than 100:  113\n"
     ]
    }
   ],
   "source": [
    "n=0\n",
    "while(True):\n",
    "    if n<=100:\n",
    "        n = int(input(\"Enter no greater than 100: \"))\n",
    "        continue\n",
    "    elif n>100:\n",
    "        print(\"You have printed no. greater than 100: \", n)\n",
    "        break"
   ]
  },
  {
   "cell_type": "code",
   "execution_count": null,
   "id": "f0dbaf6c",
   "metadata": {},
   "outputs": [],
   "source": []
  }
 ],
 "metadata": {
  "kernelspec": {
   "display_name": "Python 3 (ipykernel)",
   "language": "python",
   "name": "python3"
  },
  "language_info": {
   "codemirror_mode": {
    "name": "ipython",
    "version": 3
   },
   "file_extension": ".py",
   "mimetype": "text/x-python",
   "name": "python",
   "nbconvert_exporter": "python",
   "pygments_lexer": "ipython3",
   "version": "3.10.1"
  }
 },
 "nbformat": 4,
 "nbformat_minor": 5
}
