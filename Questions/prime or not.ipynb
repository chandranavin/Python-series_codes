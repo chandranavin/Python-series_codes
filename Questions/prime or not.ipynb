{
 "cells": [
  {
   "cell_type": "code",
   "execution_count": null,
   "id": "9130555c",
   "metadata": {},
   "outputs": [],
   "source": []
  },
  {
   "cell_type": "code",
   "execution_count": 17,
   "id": "69a6436c",
   "metadata": {},
   "outputs": [
    {
     "name": "stdout",
     "output_type": "stream",
     "text": [
      "45\n",
      "not prime\n"
     ]
    }
   ],
   "source": [
    "def isprime(n):\n",
    "    for i in range(2,n):\n",
    "        if n%i==0:\n",
    "            print(\"not prime\")\n",
    "            break\n",
    "    else:                                          # important part * else in for range line\n",
    "        print(\"is prime\")\n",
    "n = int(input())     \n",
    "isprime(n)"
   ]
  },
  {
   "cell_type": "code",
   "execution_count": null,
   "id": "a602340c",
   "metadata": {},
   "outputs": [],
   "source": []
  }
 ],
 "metadata": {
  "kernelspec": {
   "display_name": "Python 3 (ipykernel)",
   "language": "python",
   "name": "python3"
  },
  "language_info": {
   "codemirror_mode": {
    "name": "ipython",
    "version": 3
   },
   "file_extension": ".py",
   "mimetype": "text/x-python",
   "name": "python",
   "nbconvert_exporter": "python",
   "pygments_lexer": "ipython3",
   "version": "3.10.1"
  }
 },
 "nbformat": 4,
 "nbformat_minor": 5
}
