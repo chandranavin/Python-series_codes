{
 "cells": [
  {
   "cell_type": "code",
   "execution_count": 27,
   "id": "f3f2b9fe",
   "metadata": {},
   "outputs": [
    {
     "name": "stdout",
     "output_type": "stream",
     "text": [
      "This is Hello World\n",
      "i\n",
      "This is\n",
      "This is Hello World\n",
      "Ti sHloWrd\n",
      "or\n",
      "dlroW olleH si sihT\n"
     ]
    }
   ],
   "source": [
    "str1= \"This is Hello World\"\n",
    "\n",
    "print(str1)\n",
    "print(str1[5])\n",
    "print(str1[0:7])\n",
    "print(str1[:20])\n",
    "print(str1[::2])\n",
    "print(str1[-4:-2])\n",
    "\n",
    "#to reverse a string\n",
    "print(str1[::-1])\n"
   ]
  },
  {
   "cell_type": "code",
   "execution_count": 28,
   "id": "1add5d2e",
   "metadata": {},
   "outputs": [],
   "source": [
    "#some functions"
   ]
  },
  {
   "cell_type": "code",
   "execution_count": 29,
   "id": "41d79a01",
   "metadata": {},
   "outputs": [
    {
     "name": "stdout",
     "output_type": "stream",
     "text": [
      "19\n",
      "False\n",
      "True\n",
      "2\n",
      "This is hello world\n",
      "8\n",
      "this is hello world\n",
      "THIS IS HELLO WORLD\n",
      "thare are Hello World\n"
     ]
    }
   ],
   "source": [
    "str1= \"this is Hello World\"\n",
    "\n",
    "print(len(str1))\n",
    "print(str1.isnumeric())\n",
    "print(str1.endswith(\"ld\"))\n",
    "print(str1.count(\"o\"))\n",
    "print(str1.capitalize())\n",
    "print(str1.find(\"H\"))\n",
    "print(str1.lower())\n",
    "print(str1.upper())\n",
    "print(str1.replace(\"is\", \"are\"))"
   ]
  },
  {
   "cell_type": "code",
   "execution_count": null,
   "id": "479644c3",
   "metadata": {},
   "outputs": [],
   "source": []
  }
 ],
 "metadata": {
  "kernelspec": {
   "display_name": "Python 3 (ipykernel)",
   "language": "python",
   "name": "python3"
  },
  "language_info": {
   "codemirror_mode": {
    "name": "ipython",
    "version": 3
   },
   "file_extension": ".py",
   "mimetype": "text/x-python",
   "name": "python",
   "nbconvert_exporter": "python",
   "pygments_lexer": "ipython3",
   "version": "3.10.1"
  }
 },
 "nbformat": 4,
 "nbformat_minor": 5
}
