{
 "cells": [
  {
   "cell_type": "code",
   "execution_count": 1,
   "id": "c4160720",
   "metadata": {},
   "outputs": [
    {
     "name": "stdout",
     "output_type": "stream",
     "text": [
      "Enter prime no :23\n",
      "Next prime no of 23 is :  29\n"
     ]
    }
   ],
   "source": [
    "def nextprime(n):\n",
    "    while True:\n",
    "            n+=1\n",
    "            for i in range(2,n):\n",
    "                if n%i==0:\n",
    "                    break    \n",
    "            else:\n",
    "                  return n\n",
    "n = int(input(\"Enter prime no :\"))\n",
    "print(\"Next prime no of\", n, \"is : \" ,nextprime(n))"
   ]
  },
  {
   "cell_type": "code",
   "execution_count": 2,
   "id": "2a2a6afd",
   "metadata": {},
   "outputs": [
    {
     "name": "stdout",
     "output_type": "stream",
     "text": [
      "45\n",
      "This is not a prime no\n",
      "Next prime no of 45 is :  None\n"
     ]
    }
   ],
   "source": [
    "def nextprime(n):\n",
    "    for i in range(2,n):\n",
    "        if n%i ==0:\n",
    "            print(\"This is not a prime no\")\n",
    "            break\n",
    "    else :\n",
    "            \n",
    "        while True:\n",
    "            n+=1\n",
    "            for i in range(2,n):\n",
    "                if n%i==0:\n",
    "                    break    \n",
    "            else:\n",
    "                  return n\n",
    "n = int(input())\n",
    "print(\"Next prime no of\", n, \"is : \" ,nextprime(n))"
   ]
  },
  {
   "cell_type": "code",
   "execution_count": null,
   "id": "078ecf6f",
   "metadata": {},
   "outputs": [],
   "source": []
  }
 ],
 "metadata": {
  "kernelspec": {
   "display_name": "Python 3 (ipykernel)",
   "language": "python",
   "name": "python3"
  },
  "language_info": {
   "codemirror_mode": {
    "name": "ipython",
    "version": 3
   },
   "file_extension": ".py",
   "mimetype": "text/x-python",
   "name": "python",
   "nbconvert_exporter": "python",
   "pygments_lexer": "ipython3",
   "version": "3.10.4"
  }
 },
 "nbformat": 4,
 "nbformat_minor": 5
}
