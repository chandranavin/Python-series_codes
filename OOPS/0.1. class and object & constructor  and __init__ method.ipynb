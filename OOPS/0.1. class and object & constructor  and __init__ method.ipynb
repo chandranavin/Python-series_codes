{
 "cells": [
  {
   "cell_type": "code",
   "execution_count": 2,
   "id": "22b2231d",
   "metadata": {},
   "outputs": [
    {
     "name": "stdout",
     "output_type": "stream",
     "text": [
      "{'name': 'ram', 'age': 45, 'add': 'delhi'}\n",
      "{'name': 'mohan', 'age': 55, 'add': 'pune'}\n",
      "\n",
      "employee.job=   Engineer\n",
      "a.job=   Engineer\n",
      "\n",
      "{'name': 'ram', 'age': 45, 'add': 'delhi', 'job': 'Doctor'}\n",
      "a.job=   Doctor\n",
      "b.job=   Engineer\n",
      "\n",
      "{'name': 'mohan', 'age': 55, 'add': 'pune'}\n"
     ]
    }
   ],
   "source": [
    "class employee:\n",
    "    job = \"Engineer\"  # job is attributes of class employee so it is also attributes of all objects of class employee\n",
    "    \n",
    "a = employee()\n",
    "b = employee()\n",
    "\n",
    "a.name='ram'\n",
    "a.age=45\n",
    "a.add = 'delhi'\n",
    "\n",
    "b.name='mohan'\n",
    "b.age=55\n",
    "b.add = 'pune'\n",
    "\n",
    "print(a.__dict__) # will get all the attributes in onject a\n",
    "print(b.__dict__) # will get all the attributes in onject b\n",
    "print( )\n",
    "print(\"employee.job=  \", employee.job)\n",
    "print(\"a.job=  \", a.job)\n",
    "\n",
    "a.job = \"Doctor\"  # the attributes job will be update for object a only\n",
    "print( )\n",
    "print(a.__dict__)  # a new attributes job will be added for object a beacuse we have updated the job for only\n",
    "print(\"a.job=  \", a.job)  \n",
    "print(\"b.job=  \", b.job)\n",
    "\n",
    "print()\n",
    "print(b.__dict__)  # unlike a the job attributes is not in the dict of b because we are using it from class employee"
   ]
  },
  {
   "cell_type": "code",
   "execution_count": 15,
   "id": "aa162d1b",
   "metadata": {},
   "outputs": [
    {
     "name": "stdout",
     "output_type": "stream",
     "text": [
      "('ram', 45, 'delhi')\n",
      "('mohan', 55, 'pune')\n",
      "a  Engineer\n",
      "b  Engineer\n",
      "a job after change: Doctor\n",
      "b job agter update of a : Engineer\n"
     ]
    }
   ],
   "source": [
    "class employee:\n",
    "    job = \"Engineer\"\n",
    "    \n",
    "    def print_detals(self):\n",
    "        return self.name, self.age, self.add\n",
    "    def change_job(cls, newjob):   # here we have use cls method in function to change the attributes of class\n",
    "        cls.job= newjob\n",
    "        \n",
    "    \n",
    "a = employee()\n",
    "b = employee()\n",
    "\n",
    "a.name='ram'\n",
    "a.age=45\n",
    "a.add = 'delhi'\n",
    "\n",
    "b.name='mohan'\n",
    "b.age=55\n",
    "b.add = 'pune'\n",
    "print(a.print_detals())\n",
    "print(b.print_detals())\n",
    "print(\"a \", a.job)\n",
    "print(\"b \", b.job)\n",
    "a.change_job(\"Doctor\")      # we have called the function and passed the new attribute value\n",
    "print(\"a job after change:\", a.job)\n",
    "print(\"b job agter update of a :\", b.job) # here we job of b will not be changed because we have not updated b job"
   ]
  },
  {
   "cell_type": "code",
   "execution_count": 18,
   "id": "e3208c50",
   "metadata": {},
   "outputs": [
    {
     "name": "stdout",
     "output_type": "stream",
     "text": [
      "Ram 45 Delhi\n",
      "Mohan 55 Pune\n"
     ]
    }
   ],
   "source": [
    "# constructor \n",
    "# use of __init__\n",
    "\n",
    "class employee:\n",
    "    def __init__(self, name, age, add): # here self is redirected to object a or b\n",
    "        self.name= name\n",
    "        self.age = age\n",
    "        self.add = add\n",
    "    \n",
    "a= employee('Ram', 45, 'Delhi')\n",
    "print(a.name, a.age, a.add)\n",
    "b= employee('Mohan', 55, 'Pune')\n",
    "print(b.name, b.age, b.add)\n"
   ]
  },
  {
   "cell_type": "code",
   "execution_count": 27,
   "id": "9c6921ce",
   "metadata": {},
   "outputs": [
    {
     "name": "stdout",
     "output_type": "stream",
     "text": [
      "Name:  Ram Rollno:  22\n"
     ]
    },
    {
     "data": {
      "text/plain": [
       "'4gb'"
      ]
     },
     "execution_count": 27,
     "metadata": {},
     "output_type": "execute_result"
    }
   ],
   "source": [
    "# inner class\n",
    "\n",
    "class student:\n",
    "    \n",
    "    def __init__(self, name, rollno):\n",
    "        self.name = name\n",
    "        self.rollno= rollno\n",
    "        self.lapii = self.laptop()\n",
    "        \n",
    "    def show(self):\n",
    "        print(\"Name: \",self.name,\"Rollno: \", self.rollno)\n",
    "        \n",
    "    class laptop:\n",
    "        \n",
    "        def __init__(self):\n",
    "            self.barad= \"hp\"\n",
    "            self.ram = \"4gb\"\n",
    "            self.cpu = \"i3\"\n",
    "        \n",
    "        \n",
    "s1 = student(\"Ram\", 22)\n",
    "s1.show()\n",
    "s1.lapii.ram"
   ]
  }
 ],
 "metadata": {
  "kernelspec": {
   "display_name": "Python 3 (ipykernel)",
   "language": "python",
   "name": "python3"
  },
  "language_info": {
   "codemirror_mode": {
    "name": "ipython",
    "version": 3
   },
   "file_extension": ".py",
   "mimetype": "text/x-python",
   "name": "python",
   "nbconvert_exporter": "python",
   "pygments_lexer": "ipython3",
   "version": "3.10.1"
  }
 },
 "nbformat": 4,
 "nbformat_minor": 5
}
