{
 "cells": [
  {
   "cell_type": "code",
   "execution_count": 2,
   "id": "153390a4",
   "metadata": {},
   "outputs": [],
   "source": [
    "# question practice"
   ]
  },
  {
   "cell_type": "code",
   "execution_count": 1,
   "id": "1f2f88d8",
   "metadata": {},
   "outputs": [],
   "source": [
    "# break statement it break the statement"
   ]
  },
  {
   "cell_type": "code",
   "execution_count": 5,
   "id": "518124be",
   "metadata": {},
   "outputs": [
    {
     "name": "stdout",
     "output_type": "stream",
     "text": [
      "how many chocklets do you want:- 55\n",
      "Chocklets 1\n",
      "Chocklets 2\n",
      "Chocklets 3\n",
      "Chocklets 4\n",
      "Chocklets 5\n",
      "Chocklets 6\n",
      "Chocklets 7\n",
      "Chocklets 8\n",
      "Chocklets 9\n",
      "Chocklets 10\n",
      "no more chocklets ;)\n"
     ]
    }
   ],
   "source": [
    "# chocklet out of stock problem\n",
    "available_chocklets = 10\n",
    "n = int(input(\"how many chocklets do you want:- \"))\n",
    "i = 1\n",
    "while i<=n:\n",
    "    if i>available_chocklets:\n",
    "        print(\"no more chocklets ;)\")\n",
    "        break\n",
    "        \n",
    "    print(\"Chocklets\",i)\n",
    "    i=i+1"
   ]
  },
  {
   "cell_type": "code",
   "execution_count": 6,
   "id": "8c1dfacf",
   "metadata": {},
   "outputs": [],
   "source": [
    "# continue statement "
   ]
  },
  {
   "cell_type": "code",
   "execution_count": 7,
   "id": "353406d3",
   "metadata": {},
   "outputs": [
    {
     "name": "stdout",
     "output_type": "stream",
     "text": [
      "1, 3, 7, 9, 11, 13, 17, 19, 21, 23, 27, 29, 31, 33, 37, 39, 41, 43, 47, 49, 51, 53, 57, 59, 61, 63, 67, 69, 71, 73, 77, 79, 81, 83, 87, 89, 91, 93, 97, 99, "
     ]
    }
   ],
   "source": [
    "# print numbers from 1 to 100 and skip all the numbers which is divisible by 2,5,8\n",
    "for i in range(1,101):\n",
    "    if i%2==0 or i%5==0 or i%8==0:# in case of or all the numbers which is divisible by 2,5,8 will not be printed\n",
    "        continue\n",
    "    print(i, end=\", \")"
   ]
  },
  {
   "cell_type": "code",
   "execution_count": 8,
   "id": "2780b5c0",
   "metadata": {},
   "outputs": [
    {
     "name": "stdout",
     "output_type": "stream",
     "text": [
      "1, 2, 3, 4, 5, 6, 7, 8, 9, 11, 12, 13, 14, 15, 16, 17, 18, 19, 21, 22, 23, 24, 25, 26, 27, 28, 29, 31, 32, 33, 34, 35, 36, 37, 38, 39, 41, 42, 43, 44, 45, 46, 47, 48, 49, 51, 52, 53, 54, 55, 56, 57, 58, 59, 61, 62, 63, 64, 65, 66, 67, 68, 69, 71, 72, 73, 74, 75, 76, 77, 78, 79, 81, 82, 83, 84, 85, 86, 87, 88, 89, 91, 92, 93, 94, 95, 96, 97, 98, 99, "
     ]
    }
   ],
   "source": [
    "# print numbers from 1 to 100 and skip onlt those numbers which is divisible by 2,5 commonly\n",
    "for i in range(1,101):\n",
    "    if i%2==0 and i%5==0:# in case of and it only skip those numbers which is commonly divisible by 2,5 and will not be printed\n",
    "        continue\n",
    "    print(i, end=\", \")"
   ]
  },
  {
   "cell_type": "code",
   "execution_count": 9,
   "id": "ce23fe62",
   "metadata": {},
   "outputs": [],
   "source": [
    "# use of pass keyword it just skip the argument"
   ]
  },
  {
   "cell_type": "code",
   "execution_count": 10,
   "id": "dfa1fd43",
   "metadata": {},
   "outputs": [
    {
     "name": "stdout",
     "output_type": "stream",
     "text": [
      "2, 4, 6, 8, 10, 12, 14, 16, 18, 20, "
     ]
    }
   ],
   "source": [
    "# only even no using pass\n",
    "for i in range (1,21):\n",
    "    if i%2!=0:\n",
    "        pass\n",
    "    else:\n",
    "        print(i, end=\", \")"
   ]
  },
  {
   "cell_type": "code",
   "execution_count": 11,
   "id": "e6639f66",
   "metadata": {
    "scrolled": true
   },
   "outputs": [
    {
     "name": "stdout",
     "output_type": "stream",
     "text": [
      "2, 4, 6, 8, 10, 12, 14, 16, 18, 20, "
     ]
    }
   ],
   "source": [
    "# only odd using pass keyword\n",
    "for i in range (1,21):\n",
    "    if i%2==0:\n",
    "        print(i, end=\", \")\n",
    "    else:\n",
    "        pass"
   ]
  },
  {
   "cell_type": "code",
   "execution_count": null,
   "id": "349713cf",
   "metadata": {},
   "outputs": [],
   "source": []
  }
 ],
 "metadata": {
  "kernelspec": {
   "display_name": "Python 3 (ipykernel)",
   "language": "python",
   "name": "python3"
  },
  "language_info": {
   "codemirror_mode": {
    "name": "ipython",
    "version": 3
   },
   "file_extension": ".py",
   "mimetype": "text/x-python",
   "name": "python",
   "nbconvert_exporter": "python",
   "pygments_lexer": "ipython3",
   "version": "3.10.1"
  }
 },
 "nbformat": 4,
 "nbformat_minor": 5
}
