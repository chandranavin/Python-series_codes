{
 "cells": [
  {
   "cell_type": "code",
   "execution_count": 66,
   "id": "852d28b2",
   "metadata": {},
   "outputs": [],
   "source": [
    "#assignment opreators"
   ]
  },
  {
   "cell_type": "code",
   "execution_count": 67,
   "id": "82bbef46",
   "metadata": {},
   "outputs": [
    {
     "name": "stdout",
     "output_type": "stream",
     "text": [
      "5 6\n",
      "27\n",
      "22\n",
      "2\n"
     ]
    }
   ],
   "source": [
    "a = 5\n",
    "b = 6\n",
    "print(a,b)\n",
    "x = 22\n",
    "\n",
    "x += 5\n",
    "print(x)\n",
    "\n",
    "x -= 5\n",
    "print(x)\n",
    "\n",
    "x %=5\n",
    "print(x)"
   ]
  },
  {
   "cell_type": "code",
   "execution_count": 68,
   "id": "43dad900",
   "metadata": {},
   "outputs": [],
   "source": [
    "#arithmetic opreator"
   ]
  },
  {
   "cell_type": "code",
   "execution_count": 69,
   "id": "d3d63001",
   "metadata": {},
   "outputs": [
    {
     "name": "stdout",
     "output_type": "stream",
     "text": [
      "11\n",
      "-1\n",
      "30\n",
      "0.8333333333333334\n",
      "0\n",
      "15625\n",
      "5\n"
     ]
    }
   ],
   "source": [
    "print(a+b)\n",
    "print(a-b)\n",
    "print(a*b)\n",
    "print(a/b)\n",
    "print(a//b)\n",
    "print(a**b)\n",
    "print(a%b)"
   ]
  },
  {
   "cell_type": "code",
   "execution_count": 70,
   "id": "f97d0440",
   "metadata": {},
   "outputs": [
    {
     "name": "stdout",
     "output_type": "stream",
     "text": [
      "4\n",
      "7\n",
      "3\n",
      "-7\n",
      "-6\n"
     ]
    }
   ],
   "source": [
    "print(a&b)\n",
    "print(a|b)\n",
    "print(a^b)\n",
    "print(~b)\n",
    "print(~a)"
   ]
  },
  {
   "cell_type": "code",
   "execution_count": 71,
   "id": "a4ced81c",
   "metadata": {},
   "outputs": [],
   "source": [
    "#comparison opreator"
   ]
  },
  {
   "cell_type": "code",
   "execution_count": 72,
   "id": "029b5d1b",
   "metadata": {},
   "outputs": [
    {
     "name": "stdout",
     "output_type": "stream",
     "text": [
      "False True\n",
      "False True\n",
      "False True\n",
      "False True\n",
      "True\n",
      "False\n"
     ]
    }
   ],
   "source": [
    "i = 9\n",
    "print(i==8, i==9)\n",
    "print(i!=9, i!=8)\n",
    "print(i>10, i>8)\n",
    "print(i<8, i<90)\n",
    "print(i>=9)\n",
    "print(i<=2)\n"
   ]
  },
  {
   "cell_type": "code",
   "execution_count": 73,
   "id": "2b105dd7",
   "metadata": {},
   "outputs": [],
   "source": [
    "#logical opreator"
   ]
  },
  {
   "cell_type": "code",
   "execution_count": 74,
   "id": "f16d69c1",
   "metadata": {},
   "outputs": [
    {
     "name": "stdout",
     "output_type": "stream",
     "text": [
      "0\n",
      "0\n",
      "1\n",
      "0\n",
      "\n",
      "\n",
      "1\n",
      "1\n",
      "1\n",
      "0\n"
     ]
    }
   ],
   "source": [
    "p = 0\n",
    "q = 1\n",
    "#and\n",
    "print( p and q)\n",
    "print( q and p)\n",
    "print( q and q)\n",
    "print( p and p)\n",
    "print(\"\\n\")\n",
    "#or\n",
    "print( p or q)\n",
    "print( q or p)\n",
    "print( q or q)\n",
    "print( p or p)"
   ]
  },
  {
   "cell_type": "code",
   "execution_count": 75,
   "id": "cfeb226b",
   "metadata": {},
   "outputs": [],
   "source": [
    "#identical operator"
   ]
  },
  {
   "cell_type": "code",
   "execution_count": 76,
   "id": "7961a4a4",
   "metadata": {},
   "outputs": [
    {
     "name": "stdout",
     "output_type": "stream",
     "text": [
      "False\n",
      "True\n"
     ]
    }
   ],
   "source": [
    "j = 99\n",
    "k = 65\n",
    "print( a is b)\n",
    "print( a is not b)"
   ]
  },
  {
   "cell_type": "code",
   "execution_count": 77,
   "id": "f2ff0411",
   "metadata": {},
   "outputs": [],
   "source": [
    "#membership opreator"
   ]
  },
  {
   "cell_type": "code",
   "execution_count": 78,
   "id": "33ce5ebd",
   "metadata": {},
   "outputs": [
    {
     "name": "stdout",
     "output_type": "stream",
     "text": [
      "True\n",
      "False\n",
      "True\n"
     ]
    }
   ],
   "source": [
    "l1 = [1,2,3,4,5,6,7]\n",
    "print(1 in l1)\n",
    "print(99 in l1)\n",
    "print(90 not in l1)"
   ]
  },
  {
   "cell_type": "code",
   "execution_count": null,
   "id": "c485f693",
   "metadata": {},
   "outputs": [],
   "source": []
  }
 ],
 "metadata": {
  "kernelspec": {
   "display_name": "Python 3 (ipykernel)",
   "language": "python",
   "name": "python3"
  },
  "language_info": {
   "codemirror_mode": {
    "name": "ipython",
    "version": 3
   },
   "file_extension": ".py",
   "mimetype": "text/x-python",
   "name": "python",
   "nbconvert_exporter": "python",
   "pygments_lexer": "ipython3",
   "version": "3.10.1"
  }
 },
 "nbformat": 4,
 "nbformat_minor": 5
}
