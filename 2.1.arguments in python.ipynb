{
 "cells": [
  {
   "cell_type": "code",
   "execution_count": 10,
   "id": "56060f20",
   "metadata": {},
   "outputs": [],
   "source": [
    "#  actual arguments  \n",
    "#  .position\n",
    "#  .keyword\n",
    "#  .default\n",
    "#  .variable length"
   ]
  },
  {
   "cell_type": "code",
   "execution_count": 12,
   "id": "833f12ba",
   "metadata": {},
   "outputs": [
    {
     "name": "stdout",
     "output_type": "stream",
     "text": [
      "Ram\n",
      "50\n"
     ]
    }
   ],
   "source": [
    "# position\n",
    "def person( name, age):\n",
    "    print(name)\n",
    "    print(age)\n",
    "\n",
    "person('Ram', 50)"
   ]
  },
  {
   "cell_type": "code",
   "execution_count": 13,
   "id": "5fd7ce79",
   "metadata": {},
   "outputs": [
    {
     "name": "stdout",
     "output_type": "stream",
     "text": [
      "ram\n",
      "50\n"
     ]
    }
   ],
   "source": [
    "# keyword\n",
    "def person( name, age):\n",
    "    print(name)\n",
    "    print(age)\n",
    "\n",
    "person(age= 50, name= 'Ram')"
   ]
  },
  {
   "cell_type": "code",
   "execution_count": 15,
   "id": "4e4802b4",
   "metadata": {},
   "outputs": [
    {
     "name": "stdout",
     "output_type": "stream",
     "text": [
      "ram\n",
      "18\n",
      "ram\n",
      "50\n"
     ]
    }
   ],
   "source": [
    "# default\n",
    "def person( name, age=18):\n",
    "    print(name)\n",
    "    print(age)\n",
    "\n",
    "person('Ram')  # when no argument is given then it will take default argument\n",
    "person('Ram', 50)"
   ]
  },
  {
   "cell_type": "code",
   "execution_count": 16,
   "id": "dfa8324e",
   "metadata": {},
   "outputs": [
    {
     "name": "stdout",
     "output_type": "stream",
     "text": [
      "4\n",
      "(5, 6, 7, 9)\n"
     ]
    }
   ],
   "source": [
    "# variable length\n",
    "def sum(a,*b): # in this because of * b can take multiple argument and by default a will take the first value\n",
    "    print(a)\n",
    "    print(b)\n",
    "    \n",
    "sum(4,5,6,7,9)"
   ]
  },
  {
   "cell_type": "code",
   "execution_count": 24,
   "id": "4be7ab77",
   "metadata": {},
   "outputs": [
    {
     "name": "stdout",
     "output_type": "stream",
     "text": [
      "Ram\n",
      "{'age': 20, 'city': 'delhi', 'pincode': 110002, 'mob': 1234567890}\n"
     ]
    }
   ],
   "source": [
    "def person(name, **data):  # we can pass multuple data with keywords with the help of **\n",
    "    print(name)\n",
    "    print(data)\n",
    "    \n",
    "    \n",
    "person('Ram', age=20, city='delhi', pincode= 110002, mob= 1234567890)\n"
   ]
  },
  {
   "cell_type": "code",
   "execution_count": null,
   "id": "b8657893",
   "metadata": {},
   "outputs": [],
   "source": []
  },
  {
   "cell_type": "code",
   "execution_count": null,
   "id": "a0cd69e2",
   "metadata": {},
   "outputs": [],
   "source": []
  }
 ],
 "metadata": {
  "kernelspec": {
   "display_name": "Python 3 (ipykernel)",
   "language": "python",
   "name": "python3"
  },
  "language_info": {
   "codemirror_mode": {
    "name": "ipython",
    "version": 3
   },
   "file_extension": ".py",
   "mimetype": "text/x-python",
   "name": "python",
   "nbconvert_exporter": "python",
   "pygments_lexer": "ipython3",
   "version": "3.10.1"
  }
 },
 "nbformat": 4,
 "nbformat_minor": 5
}
