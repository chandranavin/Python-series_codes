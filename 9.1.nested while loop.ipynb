{
 "cells": [
  {
   "cell_type": "code",
   "execution_count": 4,
   "id": "1d5e6173",
   "metadata": {},
   "outputs": [],
   "source": [
    "# nested while loop"
   ]
  },
  {
   "cell_type": "code",
   "execution_count": 5,
   "id": "93f386b3",
   "metadata": {},
   "outputs": [
    {
     "name": "stdout",
     "output_type": "stream",
     "text": [
      "Hello World !!!\n",
      "Hello World !!!\n",
      "Hello World !!!\n",
      "Hello World !!!\n",
      "Hello World !!!\n"
     ]
    }
   ],
   "source": [
    "i = 1\n",
    "while i<=5:\n",
    "    print(\"Hello World\",end=\" \")\n",
    "    j = 1\n",
    "    while j<=3:\n",
    "        print(\"!\", end=\"\")\n",
    "        j = j+1\n",
    "    i = i+1\n",
    "    print()\n",
    "    \n",
    "    "
   ]
  },
  {
   "cell_type": "code",
   "execution_count": 6,
   "id": "ecaf6985",
   "metadata": {},
   "outputs": [
    {
     "name": "stdout",
     "output_type": "stream",
     "text": [
      "how many chocklets do you want:- 45\n",
      "Chocklets 1\n",
      "Chocklets 2\n",
      "Chocklets 3\n",
      "Chocklets 4\n",
      "Chocklets 5\n",
      "Chocklets 6\n",
      "Chocklets 7\n",
      "Chocklets 8\n",
      "Chocklets 9\n",
      "Chocklets 10\n",
      "no more chocklets ;)\n"
     ]
    }
   ],
   "source": [
    "# while loop question\n",
    "# chocklet out of stock problem \n",
    "available_chocklets = 10\n",
    "n = int(input(\"how many chocklets do you want:- \"))\n",
    "i = 1\n",
    "while i<=n:\n",
    "    if i>available_chocklets:\n",
    "        print(\"no more chocklets ;)\")\n",
    "        break\n",
    "        \n",
    "    print(\"Chocklets\",i)\n",
    "    i=i+1"
   ]
  },
  {
   "cell_type": "code",
   "execution_count": null,
   "id": "4544ea60",
   "metadata": {},
   "outputs": [],
   "source": []
  }
 ],
 "metadata": {
  "kernelspec": {
   "display_name": "Python 3 (ipykernel)",
   "language": "python",
   "name": "python3"
  },
  "language_info": {
   "codemirror_mode": {
    "name": "ipython",
    "version": 3
   },
   "file_extension": ".py",
   "mimetype": "text/x-python",
   "name": "python",
   "nbconvert_exporter": "python",
   "pygments_lexer": "ipython3",
   "version": "3.10.1"
  }
 },
 "nbformat": 4,
 "nbformat_minor": 5
}
