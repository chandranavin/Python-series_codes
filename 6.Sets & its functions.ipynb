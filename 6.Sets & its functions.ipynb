{
 "cells": [
  {
   "cell_type": "code",
   "execution_count": 7,
   "id": "82547758",
   "metadata": {},
   "outputs": [
    {
     "name": "stdout",
     "output_type": "stream",
     "text": [
      "<class 'set'>\n",
      "<class 'set'> {1, 2, 3, 4, 5}\n",
      "1\n",
      "5\n",
      "{1, 2} {1, 2, 3}\n",
      "2\n"
     ]
    }
   ],
   "source": [
    "s= set()\n",
    "print(type(s))\n",
    "\n",
    "l=[1,2,3,4,5]\n",
    "l1=set(l)\n",
    "print(type(l1), l1)\n",
    "print(min(l))\n",
    "print(max(l))\n",
    "\n",
    "s.add(1)\n",
    "s.add(2)\n",
    "s.add(2)\n",
    "s.add(2)\n",
    "s.union([1,2,3])\n",
    "s1=s.union([1,2,3])\n",
    "print(s,s1)#it will only print unique value\n",
    "print(len(s))"
   ]
  },
  {
   "cell_type": "code",
   "execution_count": null,
   "id": "8920a56c",
   "metadata": {},
   "outputs": [],
   "source": []
  }
 ],
 "metadata": {
  "kernelspec": {
   "display_name": "Python 3 (ipykernel)",
   "language": "python",
   "name": "python3"
  },
  "language_info": {
   "codemirror_mode": {
    "name": "ipython",
    "version": 3
   },
   "file_extension": ".py",
   "mimetype": "text/x-python",
   "name": "python",
   "nbconvert_exporter": "python",
   "pygments_lexer": "ipython3",
   "version": "3.10.1"
  }
 },
 "nbformat": 4,
 "nbformat_minor": 5
}
