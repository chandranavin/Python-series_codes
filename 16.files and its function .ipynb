{
 "cells": [
  {
   "cell_type": "code",
   "execution_count": 1,
   "id": "ab786689",
   "metadata": {},
   "outputs": [],
   "source": [
    "# \"r\" = open file for reading\n",
    "# \"w\" = open filr for writing\n",
    "# \"x\" = creates file if not exists\n",
    "# \"a\" = add more content to a file\n",
    "# \"t\" = text mode\n",
    "# \"b\" = binary modes\n",
    "# \"+\" = read and write"
   ]
  },
  {
   "cell_type": "code",
   "execution_count": 2,
   "id": "4240bab7",
   "metadata": {},
   "outputs": [],
   "source": [
    "# read"
   ]
  },
  {
   "cell_type": "code",
   "execution_count": 3,
   "id": "b2d1a166",
   "metadata": {},
   "outputs": [
    {
     "name": "stdout",
     "output_type": "stream",
     "text": [
      "hii!!! this is first line\n",
      "hii!!! this is second line\n",
      "hii!!! this is third line\n",
      "hii!!! this is fourth line\n",
      "hii!!! this is fifth line\n",
      "hii!!! this is sixth line\n"
     ]
    }
   ],
   "source": [
    "f = open(\"text.txt\")    # it will open the text file\n",
    "content = f.read()      # it will read the text file\n",
    "print(content)\n",
    "\n",
    "f.close()     # we need to close the file after opening the file"
   ]
  },
  {
   "cell_type": "code",
   "execution_count": 4,
   "id": "7a89fe32",
   "metadata": {},
   "outputs": [
    {
     "name": "stdout",
     "output_type": "stream",
     "text": [
      "hii!!! thi\n"
     ]
    }
   ],
   "source": [
    "f = open(\"text.txt\")\n",
    "content = f.read(10) # it will print only 10 values including spaces\n",
    "print(content)\n",
    "\n",
    "f.close()"
   ]
  },
  {
   "cell_type": "code",
   "execution_count": 5,
   "id": "958cd722",
   "metadata": {},
   "outputs": [
    {
     "name": "stdout",
     "output_type": "stream",
     "text": [
      "hii!!! this is first line\n",
      "hii!!! this is second line\n",
      "hii!!! this is third line\n",
      "hii!!! this is fourth line\n",
      "hii!!! this is fifth line\n",
      "hii!!! this is sixth line\n"
     ]
    }
   ],
   "source": [
    "f = open(\"text.txt\")\n",
    "content = f.read(10000)  # this is out of scope, so it will print all the values\n",
    "print(content)\n",
    "\n",
    "f.close()"
   ]
  },
  {
   "cell_type": "code",
   "execution_count": 6,
   "id": "ee57c643",
   "metadata": {},
   "outputs": [],
   "source": [
    "# readline function"
   ]
  },
  {
   "cell_type": "code",
   "execution_count": 7,
   "id": "c1097b20",
   "metadata": {},
   "outputs": [
    {
     "name": "stdout",
     "output_type": "stream",
     "text": [
      "hii!!! this is first line\n",
      "\n",
      "hii!!! this is second line\n",
      "\n",
      "hii!!! this is third line\n",
      "\n"
     ]
    }
   ],
   "source": [
    "f = open(\"text.txt\")\n",
    "print(f.readline()) # it will print single line everytime we use and also add a extra line for \\n\n",
    "print(f.readline())\n",
    "print(f.readline())\n",
    "\n",
    "f.close()"
   ]
  },
  {
   "cell_type": "code",
   "execution_count": 8,
   "id": "70c69508",
   "metadata": {},
   "outputs": [
    {
     "name": "stdout",
     "output_type": "stream",
     "text": [
      "['hii!!! this is first line\\n', 'hii!!! this is second line\\n', 'hii!!! this is third line\\n', 'hii!!! this is fourth line\\n', 'hii!!! this is fifth line\\n', 'hii!!! this is sixth line']\n"
     ]
    }
   ],
   "source": [
    "f = open(\"text.txt\")\n",
    "print(f.readlines())  # it will print all the lines in single line including \\n\n",
    "\n",
    "f.close()"
   ]
  },
  {
   "cell_type": "code",
   "execution_count": 9,
   "id": "3d10f013",
   "metadata": {},
   "outputs": [
    {
     "name": "stdout",
     "output_type": "stream",
     "text": [
      "h\n",
      "i\n",
      "i\n",
      "!\n",
      "!\n",
      "!\n",
      " \n",
      "t\n",
      "h\n",
      "i\n"
     ]
    }
   ],
   "source": [
    "f = open(\"text.txt\")\n",
    "content = f.read(10)\n",
    "\n",
    "for line in content:  # it will print each character in new line\n",
    "    print(line)\n",
    "f.close()"
   ]
  },
  {
   "cell_type": "code",
   "execution_count": 10,
   "id": "cb45e4ef",
   "metadata": {},
   "outputs": [
    {
     "name": "stdout",
     "output_type": "stream",
     "text": [
      "hii!!! this is first line\n",
      "\n",
      "hii!!! this is second line\n",
      "\n",
      "hii!!! this is third line\n",
      "\n",
      "hii!!! this is fourth line\n",
      "\n",
      "hii!!! this is fifth line\n",
      "\n",
      "hii!!! this is sixth line\n"
     ]
    }
   ],
   "source": [
    "f = open(\"text.txt\")\n",
    "\n",
    "for line in f:  # it will print each line in new line\n",
    "    print(line)\n",
    "f.close()"
   ]
  },
  {
   "cell_type": "code",
   "execution_count": 11,
   "id": "ee971e17",
   "metadata": {},
   "outputs": [],
   "source": [
    "# write"
   ]
  },
  {
   "cell_type": "code",
   "execution_count": 12,
   "id": "2856715a",
   "metadata": {},
   "outputs": [
    {
     "name": "stdout",
     "output_type": "stream",
     "text": [
      "26\n"
     ]
    }
   ],
   "source": [
    "f = open(\"text2.txt\", \"w\")\n",
    "#it will give the no of character we write and also remove all previous lines\n",
    "content = f.write(\"hii!! this is seventh line\")\n",
    "print(content)\n",
    "f.close()\n"
   ]
  },
  {
   "cell_type": "code",
   "execution_count": 22,
   "id": "cb98f8fc",
   "metadata": {},
   "outputs": [],
   "source": [
    "f = open(\"text2.txt\", \"w\")\n",
    "#it will just add the line and remove all pervious lines\n",
    "f.write(\"hii!! this is seventh line\")\n",
    "\n",
    "f.close()\n"
   ]
  },
  {
   "cell_type": "code",
   "execution_count": 23,
   "id": "09c6e2ee",
   "metadata": {},
   "outputs": [],
   "source": [
    "# read and write both"
   ]
  },
  {
   "cell_type": "code",
   "execution_count": 28,
   "id": "1fd2b4d5",
   "metadata": {},
   "outputs": [
    {
     "name": "stdout",
     "output_type": "stream",
     "text": [
      "hii!! this is seventh line\n",
      "hii!! this is eighth line\n",
      "hii!! this is eighth line\n",
      "hii!! this is eighth line\n",
      "hii!! this is eighth line\n",
      "\n"
     ]
    }
   ],
   "source": [
    "f = open(\"text2.txt\", \"r+\")\n",
    "print(f.read())\n",
    "f.write(\"\\nhii!! this is eighth line\")   # the many times we run this program this line will be added\n",
    "print(f.read())\n",
    "\n",
    "f.close()"
   ]
  },
  {
   "cell_type": "code",
   "execution_count": 29,
   "id": "3d9a1484",
   "metadata": {},
   "outputs": [
    {
     "name": "stdout",
     "output_type": "stream",
     "text": [
      "0\n",
      "hii!!! this is first line\n",
      "\n",
      "26\n"
     ]
    }
   ],
   "source": [
    "f = open(\"text.txt\")\n",
    "\n",
    "print(f.tell())      # it will print the curremt position\n",
    "print(f.readline())\n",
    "print(f.tell()) # it will print the curremt position\n",
    "\n",
    "f.close()"
   ]
  },
  {
   "cell_type": "code",
   "execution_count": 30,
   "id": "4cb4fe9c",
   "metadata": {},
   "outputs": [
    {
     "name": "stdout",
     "output_type": "stream",
     "text": [
      "hii!!! this is first line\n",
      "\n",
      "hii!!! this is first line\n",
      "\n",
      " this is first line\n",
      "\n"
     ]
    }
   ],
   "source": [
    "f = open(\"text.txt\")    \n",
    "print(f.readline())\n",
    "f.seek(0)                # it will reset command to value given\n",
    "print(f.readline())\n",
    "f.seek(6)\n",
    "print(f.readline())\n",
    "\n",
    "f.close()"
   ]
  },
  {
   "cell_type": "code",
   "execution_count": 31,
   "id": "2e797911",
   "metadata": {},
   "outputs": [],
   "source": [
    "# with open (\"text.txt\") as f:      # this line of code is totally same as below two lines of code\n",
    "#the difference is that in first line of code we need not to close the file but in below line of code we need to close the file\n",
    "# f = open(\"text.txt\")           # in this we need to close the file to use the same file further\n",
    "# f.close()"
   ]
  },
  {
   "cell_type": "code",
   "execution_count": null,
   "id": "7d924501",
   "metadata": {},
   "outputs": [],
   "source": []
  },
  {
   "cell_type": "code",
   "execution_count": null,
   "id": "26485133",
   "metadata": {},
   "outputs": [],
   "source": []
  }
 ],
 "metadata": {
  "kernelspec": {
   "display_name": "Python 3 (ipykernel)",
   "language": "python",
   "name": "python3"
  },
  "language_info": {
   "codemirror_mode": {
    "name": "ipython",
    "version": 3
   },
   "file_extension": ".py",
   "mimetype": "text/x-python",
   "name": "python",
   "nbconvert_exporter": "python",
   "pygments_lexer": "ipython3",
   "version": "3.10.1"
  }
 },
 "nbformat": 4,
 "nbformat_minor": 5
}
