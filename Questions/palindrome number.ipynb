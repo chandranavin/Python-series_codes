{
 "cells": [
  {
   "cell_type": "code",
   "execution_count": 9,
   "id": "35741775",
   "metadata": {},
   "outputs": [
    {
     "name": "stdout",
     "output_type": "stream",
     "text": [
      "002252200\n",
      "palindrome\n"
     ]
    }
   ],
   "source": [
    "n = input()\n",
    "a= n[::-1]\n",
    "if a==n:\n",
    "    print(\"palindrome no.\")\n",
    "else:\n",
    "    print(\"not palindrome no.\")"
   ]
  },
  {
   "cell_type": "code",
   "execution_count": 21,
   "id": "c7f25ae6",
   "metadata": {},
   "outputs": [
    {
     "name": "stdout",
     "output_type": "stream",
     "text": [
      "nitin\n",
      "palindrome\n"
     ]
    }
   ],
   "source": [
    "def palindrome(n):\n",
    "    a = n[::-1]\n",
    "    if a==n:\n",
    "        print(\"palindrome\")\n",
    "    else:\n",
    "        print(\"not palindrome\")\n",
    "n= input()\n",
    "palindrome(n)"
   ]
  },
  {
   "cell_type": "code",
   "execution_count": null,
   "id": "97817543",
   "metadata": {},
   "outputs": [],
   "source": []
  }
 ],
 "metadata": {
  "kernelspec": {
   "display_name": "Python 3 (ipykernel)",
   "language": "python",
   "name": "python3"
  },
  "language_info": {
   "codemirror_mode": {
    "name": "ipython",
    "version": 3
   },
   "file_extension": ".py",
   "mimetype": "text/x-python",
   "name": "python",
   "nbconvert_exporter": "python",
   "pygments_lexer": "ipython3",
   "version": "3.10.1"
  }
 },
 "nbformat": 4,
 "nbformat_minor": 5
}
