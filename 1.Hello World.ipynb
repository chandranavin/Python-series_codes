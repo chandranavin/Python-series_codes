{
 "cells": [
  {
   "cell_type": "code",
   "execution_count": 22,
   "id": "ac84d171",
   "metadata": {},
   "outputs": [
    {
     "name": "stdout",
     "output_type": "stream",
     "text": [
      "Hello World!\n"
     ]
    }
   ],
   "source": [
    "print(\"Hello World!\")"
   ]
  },
  {
   "cell_type": "code",
   "execution_count": 4,
   "id": "ac93c5f9",
   "metadata": {},
   "outputs": [],
   "source": [
    "#printing two print statement in one line using -   end=\"\""
   ]
  },
  {
   "cell_type": "code",
   "execution_count": 25,
   "id": "c66c749b",
   "metadata": {},
   "outputs": [
    {
     "name": "stdout",
     "output_type": "stream",
     "text": [
      "Hello World!\n",
      "Hello_World!\n"
     ]
    }
   ],
   "source": [
    "print(\"Hello\", end=\" \")\n",
    "print(\"World!\")\n",
    "\n",
    "print(\"Hello\", end=\"_\")\n",
    "print(\"World!\")"
   ]
  },
  {
   "cell_type": "code",
   "execution_count": 6,
   "id": "11a5f515",
   "metadata": {},
   "outputs": [],
   "source": [
    "#to print \" , \\ in print statement we use \\ with \" & \\"
   ]
  },
  {
   "cell_type": "code",
   "execution_count": 24,
   "id": "9d46fa4b",
   "metadata": {},
   "outputs": [
    {
     "name": "stdout",
     "output_type": "stream",
     "text": [
      "Hello\\World!\n",
      "\"Hello\\World!\"\n"
     ]
    }
   ],
   "source": [
    "print(\"Hello\\\\World!\")\n",
    "print(\"\\\"Hello\\\\World!\\\"\")"
   ]
  },
  {
   "cell_type": "code",
   "execution_count": null,
   "id": "c76350ca",
   "metadata": {},
   "outputs": [],
   "source": []
  }
 ],
 "metadata": {
  "kernelspec": {
   "display_name": "Python 3 (ipykernel)",
   "language": "python",
   "name": "python3"
  },
  "language_info": {
   "codemirror_mode": {
    "name": "ipython",
    "version": 3
   },
   "file_extension": ".py",
   "mimetype": "text/x-python",
   "name": "python",
   "nbconvert_exporter": "python",
   "pygments_lexer": "ipython3",
   "version": "3.10.1"
  }
 },
 "nbformat": 4,
 "nbformat_minor": 5
}
