{
 "cells": [
  {
   "cell_type": "code",
   "execution_count": 1,
   "id": "58c94b1b",
   "metadata": {},
   "outputs": [],
   "source": [
    "#"
   ]
  },
  {
   "cell_type": "code",
   "execution_count": 2,
   "id": "2d0f82fd",
   "metadata": {},
   "outputs": [
    {
     "name": "stdout",
     "output_type": "stream",
     "text": [
      "[1, 2, 3, 4, 5, 6, 7, 8, 9, 10]\n"
     ]
    }
   ],
   "source": [
    "l1 = [1,2,3,4,5,6,7,8,9,10]\n",
    "print(l1)\n",
    "for item in l1:\n",
    "    print(item)\n"
   ]
  },
  {
   "cell_type": "code",
   "execution_count": 3,
   "id": "b86d3457",
   "metadata": {
    "scrolled": true
   },
   "outputs": [
    {
     "name": "stdout",
     "output_type": "stream",
     "text": [
      "Maths\n",
      "Physics\n",
      "English\n",
      "\n",
      "\n",
      "Maths 50\n",
      "Physics 80\n",
      "English 60\n"
     ]
    }
   ],
   "source": [
    "sub = {\"Maths\": 50, \"Physics\": 80, \"English\": 60}\n",
    "for subject in sub:\n",
    "    print(subject)\n",
    "    \n",
    "print('\\n')\n",
    "\n",
    "for subjects, marks in sub.items():\n",
    "    print(subjects, marks)"
   ]
  },
  {
   "cell_type": "code",
   "execution_count": null,
   "id": "2ee6d571",
   "metadata": {},
   "outputs": [],
   "source": []
  }
 ],
 "metadata": {
  "kernelspec": {
   "display_name": "Python 3 (ipykernel)",
   "language": "python",
   "name": "python3"
  },
  "language_info": {
   "codemirror_mode": {
    "name": "ipython",
    "version": 3
   },
   "file_extension": ".py",
   "mimetype": "text/x-python",
   "name": "python",
   "nbconvert_exporter": "python",
   "pygments_lexer": "ipython3",
   "version": "3.10.1"
  }
 },
 "nbformat": 4,
 "nbformat_minor": 5
}
