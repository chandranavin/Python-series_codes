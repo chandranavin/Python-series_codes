{
 "cells": [
  {
   "cell_type": "code",
   "execution_count": 26,
   "id": "9d0c50f0",
   "metadata": {},
   "outputs": [],
   "source": [
    "#built in function"
   ]
  },
  {
   "cell_type": "code",
   "execution_count": 27,
   "id": "a325ba19",
   "metadata": {},
   "outputs": [
    {
     "data": {
      "text/plain": [
       "151"
      ]
     },
     "execution_count": 27,
     "metadata": {},
     "output_type": "execute_result"
    }
   ],
   "source": [
    "a = 85\n",
    "b = 66\n",
    "sum((a , b))"
   ]
  },
  {
   "cell_type": "code",
   "execution_count": 28,
   "id": "93ddfabc",
   "metadata": {},
   "outputs": [],
   "source": [
    "#user-defined function"
   ]
  },
  {
   "cell_type": "code",
   "execution_count": 29,
   "id": "f9b02349",
   "metadata": {},
   "outputs": [],
   "source": [
    "#return average of a no."
   ]
  },
  {
   "cell_type": "code",
   "execution_count": 30,
   "id": "5c0bcd72",
   "metadata": {},
   "outputs": [
    {
     "name": "stdout",
     "output_type": "stream",
     "text": [
      "321.0\n"
     ]
    }
   ],
   "source": [
    "def func1( a, b):\n",
    "    average = (a+b)/2\n",
    "    return average\n",
    "\n",
    "c= func1(88, 554)\n",
    "print(c)"
   ]
  },
  {
   "cell_type": "code",
   "execution_count": 31,
   "id": "06f8f408",
   "metadata": {},
   "outputs": [],
   "source": [
    "#no is greater or smaller"
   ]
  },
  {
   "cell_type": "code",
   "execution_count": 32,
   "id": "ea9cc11c",
   "metadata": {},
   "outputs": [
    {
     "name": "stdout",
     "output_type": "stream",
     "text": [
      "46\n",
      "13\n",
      "g is greater\n"
     ]
    }
   ],
   "source": [
    "def func2(g,h):\n",
    "    if(g>h):\n",
    "        print(\"g is greater\")\n",
    "    elif(g<h):\n",
    "        print(\"h is greater\")\n",
    "    else:\n",
    "        print(\"both are equal\")\n",
    "    return func2\n",
    "\n",
    "f = func2(int(input()),  int(input()))"
   ]
  },
  {
   "cell_type": "code",
   "execution_count": null,
   "id": "616d06c4",
   "metadata": {},
   "outputs": [],
   "source": []
  }
 ],
 "metadata": {
  "kernelspec": {
   "display_name": "Python 3 (ipykernel)",
   "language": "python",
   "name": "python3"
  },
  "language_info": {
   "codemirror_mode": {
    "name": "ipython",
    "version": 3
   },
   "file_extension": ".py",
   "mimetype": "text/x-python",
   "name": "python",
   "nbconvert_exporter": "python",
   "pygments_lexer": "ipython3",
   "version": "3.10.1"
  }
 },
 "nbformat": 4,
 "nbformat_minor": 5
}
