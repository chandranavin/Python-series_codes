{
 "cells": [
  {
   "cell_type": "code",
   "execution_count": 37,
   "id": "d6b95065",
   "metadata": {},
   "outputs": [
    {
     "name": "stdout",
     "output_type": "stream",
     "text": [
      "52\n",
      "10\n"
     ]
    }
   ],
   "source": [
    "l = 10          # global variable\n",
    "\n",
    "def func1():\n",
    "    l = 50      # local variable\n",
    "    l = l+2     # if we update, then local variable will be updated\n",
    "    print(l)\n",
    "    \n",
    "func1()\n",
    "print(l)"
   ]
  },
  {
   "cell_type": "code",
   "execution_count": 36,
   "id": "a48c1d6d",
   "metadata": {},
   "outputs": [
    {
     "name": "stdout",
     "output_type": "stream",
     "text": [
      "10\n",
      "10\n"
     ]
    }
   ],
   "source": [
    "l = 10          # global variable\n",
    "\n",
    "def func1():\n",
    "    print(l)    # if will not initlize local variable, then it will use global variable\n",
    "    \n",
    "func1()\n",
    "print(l)"
   ]
  },
  {
   "cell_type": "code",
   "execution_count": 38,
   "id": "8ca17baa",
   "metadata": {},
   "outputs": [],
   "source": [
    "# to update global variable we need to use ----global---- keyword"
   ]
  },
  {
   "cell_type": "code",
   "execution_count": 5,
   "id": "866ba03d",
   "metadata": {},
   "outputs": [
    {
     "name": "stdout",
     "output_type": "stream",
     "text": [
      "12\n",
      "12\n"
     ]
    }
   ],
   "source": [
    "l = 10          # global variable\n",
    "\n",
    "def func1():\n",
    "    global l\n",
    "    l = l+2     # if we update local variable will be updated\n",
    "    print(l)\n",
    "    \n",
    "func1()\n",
    "print(l)        # the value of l will be updatd globally"
   ]
  },
  {
   "cell_type": "code",
   "execution_count": 14,
   "id": "863f5195",
   "metadata": {},
   "outputs": [
    {
     "name": "stdout",
     "output_type": "stream",
     "text": [
      "20\n",
      "20\n",
      "98\n"
     ]
    }
   ],
   "source": [
    "def func2():\n",
    "    x = 20\n",
    "    def func3():\n",
    "        global x\n",
    "        x = 98\n",
    "    print(x)\n",
    "    func3()\n",
    "    print(x)\n",
    "func2()\n",
    "print(x)"
   ]
  },
  {
   "cell_type": "code",
   "execution_count": null,
   "id": "af9b7d95",
   "metadata": {},
   "outputs": [],
   "source": []
  }
 ],
 "metadata": {
  "kernelspec": {
   "display_name": "Python 3 (ipykernel)",
   "language": "python",
   "name": "python3"
  },
  "language_info": {
   "codemirror_mode": {
    "name": "ipython",
    "version": 3
   },
   "file_extension": ".py",
   "mimetype": "text/x-python",
   "name": "python",
   "nbconvert_exporter": "python",
   "pygments_lexer": "ipython3",
   "version": "3.10.1"
  }
 },
 "nbformat": 4,
 "nbformat_minor": 5
}
