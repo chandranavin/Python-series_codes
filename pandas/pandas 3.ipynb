{
 "cells": [
  {
   "cell_type": "code",
   "execution_count": 2,
   "id": "34713085",
   "metadata": {},
   "outputs": [],
   "source": [
    "import numpy as np\n",
    "import pandas as pd"
   ]
  },
  {
   "cell_type": "code",
   "execution_count": 4,
   "id": "b62195b2",
   "metadata": {},
   "outputs": [],
   "source": [
    "series = pd.Series(np.random.rand(5))      # series is datastructure in pandas"
   ]
  },
  {
   "cell_type": "code",
   "execution_count": 9,
   "id": "bda07a74",
   "metadata": {},
   "outputs": [
    {
     "data": {
      "text/plain": [
       "0    0.397493\n",
       "1    0.821860\n",
       "2    0.712028\n",
       "3    0.119336\n",
       "4    0.402195\n",
       "dtype: float64"
      ]
     },
     "execution_count": 9,
     "metadata": {},
     "output_type": "execute_result"
    }
   ],
   "source": [
    "series"
   ]
  },
  {
   "cell_type": "code",
   "execution_count": 10,
   "id": "a18bd7ac",
   "metadata": {},
   "outputs": [
    {
     "data": {
      "text/plain": [
       "pandas.core.series.Series"
      ]
     },
     "execution_count": 10,
     "metadata": {},
     "output_type": "execute_result"
    }
   ],
   "source": [
    "type(series)"
   ]
  },
  {
   "cell_type": "code",
   "execution_count": 32,
   "id": "8429c826",
   "metadata": {},
   "outputs": [],
   "source": [
    "dataframe = pd.DataFrame(np.random.rand(10,5))   # here 10 is row and 5 is column"
   ]
  },
  {
   "cell_type": "code",
   "execution_count": 33,
   "id": "4fcf7aba",
   "metadata": {},
   "outputs": [
    {
     "data": {
      "text/html": [
       "<div>\n",
       "<style scoped>\n",
       "    .dataframe tbody tr th:only-of-type {\n",
       "        vertical-align: middle;\n",
       "    }\n",
       "\n",
       "    .dataframe tbody tr th {\n",
       "        vertical-align: top;\n",
       "    }\n",
       "\n",
       "    .dataframe thead th {\n",
       "        text-align: right;\n",
       "    }\n",
       "</style>\n",
       "<table border=\"1\" class=\"dataframe\">\n",
       "  <thead>\n",
       "    <tr style=\"text-align: right;\">\n",
       "      <th></th>\n",
       "      <th>0</th>\n",
       "      <th>1</th>\n",
       "      <th>2</th>\n",
       "      <th>3</th>\n",
       "      <th>4</th>\n",
       "    </tr>\n",
       "  </thead>\n",
       "  <tbody>\n",
       "    <tr>\n",
       "      <th>0</th>\n",
       "      <td>0.573449</td>\n",
       "      <td>0.186884</td>\n",
       "      <td>0.794991</td>\n",
       "      <td>0.517485</td>\n",
       "      <td>0.281166</td>\n",
       "    </tr>\n",
       "    <tr>\n",
       "      <th>1</th>\n",
       "      <td>0.558461</td>\n",
       "      <td>0.739984</td>\n",
       "      <td>0.232611</td>\n",
       "      <td>0.304601</td>\n",
       "      <td>0.547140</td>\n",
       "    </tr>\n",
       "    <tr>\n",
       "      <th>2</th>\n",
       "      <td>0.635763</td>\n",
       "      <td>0.645577</td>\n",
       "      <td>0.436356</td>\n",
       "      <td>0.854407</td>\n",
       "      <td>0.795434</td>\n",
       "    </tr>\n",
       "    <tr>\n",
       "      <th>3</th>\n",
       "      <td>0.542953</td>\n",
       "      <td>0.562664</td>\n",
       "      <td>0.237794</td>\n",
       "      <td>0.435611</td>\n",
       "      <td>0.534821</td>\n",
       "    </tr>\n",
       "    <tr>\n",
       "      <th>4</th>\n",
       "      <td>0.897855</td>\n",
       "      <td>0.517342</td>\n",
       "      <td>0.854448</td>\n",
       "      <td>0.203163</td>\n",
       "      <td>0.760965</td>\n",
       "    </tr>\n",
       "    <tr>\n",
       "      <th>5</th>\n",
       "      <td>0.882789</td>\n",
       "      <td>0.589554</td>\n",
       "      <td>0.559739</td>\n",
       "      <td>0.958911</td>\n",
       "      <td>0.102154</td>\n",
       "    </tr>\n",
       "    <tr>\n",
       "      <th>6</th>\n",
       "      <td>0.003412</td>\n",
       "      <td>0.838461</td>\n",
       "      <td>0.639499</td>\n",
       "      <td>0.696273</td>\n",
       "      <td>0.996290</td>\n",
       "    </tr>\n",
       "    <tr>\n",
       "      <th>7</th>\n",
       "      <td>0.621162</td>\n",
       "      <td>0.389306</td>\n",
       "      <td>0.455008</td>\n",
       "      <td>0.326920</td>\n",
       "      <td>0.922531</td>\n",
       "    </tr>\n",
       "    <tr>\n",
       "      <th>8</th>\n",
       "      <td>0.106797</td>\n",
       "      <td>0.822987</td>\n",
       "      <td>0.841215</td>\n",
       "      <td>0.711649</td>\n",
       "      <td>0.405512</td>\n",
       "    </tr>\n",
       "    <tr>\n",
       "      <th>9</th>\n",
       "      <td>0.631744</td>\n",
       "      <td>0.956624</td>\n",
       "      <td>0.811750</td>\n",
       "      <td>0.878545</td>\n",
       "      <td>0.328628</td>\n",
       "    </tr>\n",
       "  </tbody>\n",
       "</table>\n",
       "</div>"
      ],
      "text/plain": [
       "          0         1         2         3         4\n",
       "0  0.573449  0.186884  0.794991  0.517485  0.281166\n",
       "1  0.558461  0.739984  0.232611  0.304601  0.547140\n",
       "2  0.635763  0.645577  0.436356  0.854407  0.795434\n",
       "3  0.542953  0.562664  0.237794  0.435611  0.534821\n",
       "4  0.897855  0.517342  0.854448  0.203163  0.760965\n",
       "5  0.882789  0.589554  0.559739  0.958911  0.102154\n",
       "6  0.003412  0.838461  0.639499  0.696273  0.996290\n",
       "7  0.621162  0.389306  0.455008  0.326920  0.922531\n",
       "8  0.106797  0.822987  0.841215  0.711649  0.405512\n",
       "9  0.631744  0.956624  0.811750  0.878545  0.328628"
      ]
     },
     "execution_count": 33,
     "metadata": {},
     "output_type": "execute_result"
    }
   ],
   "source": [
    "dataframe"
   ]
  },
  {
   "cell_type": "code",
   "execution_count": 34,
   "id": "33f36e7d",
   "metadata": {},
   "outputs": [
    {
     "data": {
      "text/plain": [
       "pandas.core.frame.DataFrame"
      ]
     },
     "execution_count": 34,
     "metadata": {},
     "output_type": "execute_result"
    }
   ],
   "source": [
    "type(dataframe) "
   ]
  },
  {
   "cell_type": "code",
   "execution_count": 35,
   "id": "da3d906f",
   "metadata": {},
   "outputs": [
    {
     "data": {
      "text/plain": [
       "RangeIndex(start=0, stop=10, step=1)"
      ]
     },
     "execution_count": 35,
     "metadata": {},
     "output_type": "execute_result"
    }
   ],
   "source": [
    "dataframe.index"
   ]
  },
  {
   "cell_type": "code",
   "execution_count": 36,
   "id": "e23538ac",
   "metadata": {},
   "outputs": [
    {
     "data": {
      "text/plain": [
       "RangeIndex(start=0, stop=5, step=1)"
      ]
     },
     "execution_count": 36,
     "metadata": {},
     "output_type": "execute_result"
    }
   ],
   "source": [
    "dataframe.columns"
   ]
  },
  {
   "cell_type": "code",
   "execution_count": 37,
   "id": "15fbf714",
   "metadata": {},
   "outputs": [
    {
     "data": {
      "text/html": [
       "<div>\n",
       "<style scoped>\n",
       "    .dataframe tbody tr th:only-of-type {\n",
       "        vertical-align: middle;\n",
       "    }\n",
       "\n",
       "    .dataframe tbody tr th {\n",
       "        vertical-align: top;\n",
       "    }\n",
       "\n",
       "    .dataframe thead th {\n",
       "        text-align: right;\n",
       "    }\n",
       "</style>\n",
       "<table border=\"1\" class=\"dataframe\">\n",
       "  <thead>\n",
       "    <tr style=\"text-align: right;\">\n",
       "      <th></th>\n",
       "      <th>0</th>\n",
       "      <th>1</th>\n",
       "      <th>2</th>\n",
       "      <th>3</th>\n",
       "      <th>4</th>\n",
       "      <th>5</th>\n",
       "      <th>6</th>\n",
       "      <th>7</th>\n",
       "      <th>8</th>\n",
       "      <th>9</th>\n",
       "    </tr>\n",
       "  </thead>\n",
       "  <tbody>\n",
       "    <tr>\n",
       "      <th>0</th>\n",
       "      <td>0.573449</td>\n",
       "      <td>0.558461</td>\n",
       "      <td>0.635763</td>\n",
       "      <td>0.542953</td>\n",
       "      <td>0.897855</td>\n",
       "      <td>0.882789</td>\n",
       "      <td>0.003412</td>\n",
       "      <td>0.621162</td>\n",
       "      <td>0.106797</td>\n",
       "      <td>0.631744</td>\n",
       "    </tr>\n",
       "    <tr>\n",
       "      <th>1</th>\n",
       "      <td>0.186884</td>\n",
       "      <td>0.739984</td>\n",
       "      <td>0.645577</td>\n",
       "      <td>0.562664</td>\n",
       "      <td>0.517342</td>\n",
       "      <td>0.589554</td>\n",
       "      <td>0.838461</td>\n",
       "      <td>0.389306</td>\n",
       "      <td>0.822987</td>\n",
       "      <td>0.956624</td>\n",
       "    </tr>\n",
       "    <tr>\n",
       "      <th>2</th>\n",
       "      <td>0.794991</td>\n",
       "      <td>0.232611</td>\n",
       "      <td>0.436356</td>\n",
       "      <td>0.237794</td>\n",
       "      <td>0.854448</td>\n",
       "      <td>0.559739</td>\n",
       "      <td>0.639499</td>\n",
       "      <td>0.455008</td>\n",
       "      <td>0.841215</td>\n",
       "      <td>0.811750</td>\n",
       "    </tr>\n",
       "    <tr>\n",
       "      <th>3</th>\n",
       "      <td>0.517485</td>\n",
       "      <td>0.304601</td>\n",
       "      <td>0.854407</td>\n",
       "      <td>0.435611</td>\n",
       "      <td>0.203163</td>\n",
       "      <td>0.958911</td>\n",
       "      <td>0.696273</td>\n",
       "      <td>0.326920</td>\n",
       "      <td>0.711649</td>\n",
       "      <td>0.878545</td>\n",
       "    </tr>\n",
       "    <tr>\n",
       "      <th>4</th>\n",
       "      <td>0.281166</td>\n",
       "      <td>0.547140</td>\n",
       "      <td>0.795434</td>\n",
       "      <td>0.534821</td>\n",
       "      <td>0.760965</td>\n",
       "      <td>0.102154</td>\n",
       "      <td>0.996290</td>\n",
       "      <td>0.922531</td>\n",
       "      <td>0.405512</td>\n",
       "      <td>0.328628</td>\n",
       "    </tr>\n",
       "  </tbody>\n",
       "</table>\n",
       "</div>"
      ],
      "text/plain": [
       "          0         1         2         3         4         5         6  \\\n",
       "0  0.573449  0.558461  0.635763  0.542953  0.897855  0.882789  0.003412   \n",
       "1  0.186884  0.739984  0.645577  0.562664  0.517342  0.589554  0.838461   \n",
       "2  0.794991  0.232611  0.436356  0.237794  0.854448  0.559739  0.639499   \n",
       "3  0.517485  0.304601  0.854407  0.435611  0.203163  0.958911  0.696273   \n",
       "4  0.281166  0.547140  0.795434  0.534821  0.760965  0.102154  0.996290   \n",
       "\n",
       "          7         8         9  \n",
       "0  0.621162  0.106797  0.631744  \n",
       "1  0.389306  0.822987  0.956624  \n",
       "2  0.455008  0.841215  0.811750  \n",
       "3  0.326920  0.711649  0.878545  \n",
       "4  0.922531  0.405512  0.328628  "
      ]
     },
     "execution_count": 37,
     "metadata": {},
     "output_type": "execute_result"
    }
   ],
   "source": [
    "dataframe.T  # Transpose rows into column and column int0 rows"
   ]
  },
  {
   "cell_type": "code",
   "execution_count": 39,
   "id": "2d935367",
   "metadata": {},
   "outputs": [
    {
     "data": {
      "text/html": [
       "<div>\n",
       "<style scoped>\n",
       "    .dataframe tbody tr th:only-of-type {\n",
       "        vertical-align: middle;\n",
       "    }\n",
       "\n",
       "    .dataframe tbody tr th {\n",
       "        vertical-align: top;\n",
       "    }\n",
       "\n",
       "    .dataframe thead th {\n",
       "        text-align: right;\n",
       "    }\n",
       "</style>\n",
       "<table border=\"1\" class=\"dataframe\">\n",
       "  <thead>\n",
       "    <tr style=\"text-align: right;\">\n",
       "      <th></th>\n",
       "      <th>0</th>\n",
       "      <th>1</th>\n",
       "      <th>2</th>\n",
       "      <th>3</th>\n",
       "      <th>4</th>\n",
       "    </tr>\n",
       "  </thead>\n",
       "  <tbody>\n",
       "    <tr>\n",
       "      <th>9</th>\n",
       "      <td>0.631744</td>\n",
       "      <td>0.956624</td>\n",
       "      <td>0.811750</td>\n",
       "      <td>0.878545</td>\n",
       "      <td>0.328628</td>\n",
       "    </tr>\n",
       "    <tr>\n",
       "      <th>8</th>\n",
       "      <td>0.106797</td>\n",
       "      <td>0.822987</td>\n",
       "      <td>0.841215</td>\n",
       "      <td>0.711649</td>\n",
       "      <td>0.405512</td>\n",
       "    </tr>\n",
       "    <tr>\n",
       "      <th>7</th>\n",
       "      <td>0.621162</td>\n",
       "      <td>0.389306</td>\n",
       "      <td>0.455008</td>\n",
       "      <td>0.326920</td>\n",
       "      <td>0.922531</td>\n",
       "    </tr>\n",
       "    <tr>\n",
       "      <th>6</th>\n",
       "      <td>0.003412</td>\n",
       "      <td>0.838461</td>\n",
       "      <td>0.639499</td>\n",
       "      <td>0.696273</td>\n",
       "      <td>0.996290</td>\n",
       "    </tr>\n",
       "    <tr>\n",
       "      <th>5</th>\n",
       "      <td>0.882789</td>\n",
       "      <td>0.589554</td>\n",
       "      <td>0.559739</td>\n",
       "      <td>0.958911</td>\n",
       "      <td>0.102154</td>\n",
       "    </tr>\n",
       "    <tr>\n",
       "      <th>4</th>\n",
       "      <td>0.897855</td>\n",
       "      <td>0.517342</td>\n",
       "      <td>0.854448</td>\n",
       "      <td>0.203163</td>\n",
       "      <td>0.760965</td>\n",
       "    </tr>\n",
       "    <tr>\n",
       "      <th>3</th>\n",
       "      <td>0.542953</td>\n",
       "      <td>0.562664</td>\n",
       "      <td>0.237794</td>\n",
       "      <td>0.435611</td>\n",
       "      <td>0.534821</td>\n",
       "    </tr>\n",
       "    <tr>\n",
       "      <th>2</th>\n",
       "      <td>0.635763</td>\n",
       "      <td>0.645577</td>\n",
       "      <td>0.436356</td>\n",
       "      <td>0.854407</td>\n",
       "      <td>0.795434</td>\n",
       "    </tr>\n",
       "    <tr>\n",
       "      <th>1</th>\n",
       "      <td>0.558461</td>\n",
       "      <td>0.739984</td>\n",
       "      <td>0.232611</td>\n",
       "      <td>0.304601</td>\n",
       "      <td>0.547140</td>\n",
       "    </tr>\n",
       "    <tr>\n",
       "      <th>0</th>\n",
       "      <td>0.573449</td>\n",
       "      <td>0.186884</td>\n",
       "      <td>0.794991</td>\n",
       "      <td>0.517485</td>\n",
       "      <td>0.281166</td>\n",
       "    </tr>\n",
       "  </tbody>\n",
       "</table>\n",
       "</div>"
      ],
      "text/plain": [
       "          0         1         2         3         4\n",
       "9  0.631744  0.956624  0.811750  0.878545  0.328628\n",
       "8  0.106797  0.822987  0.841215  0.711649  0.405512\n",
       "7  0.621162  0.389306  0.455008  0.326920  0.922531\n",
       "6  0.003412  0.838461  0.639499  0.696273  0.996290\n",
       "5  0.882789  0.589554  0.559739  0.958911  0.102154\n",
       "4  0.897855  0.517342  0.854448  0.203163  0.760965\n",
       "3  0.542953  0.562664  0.237794  0.435611  0.534821\n",
       "2  0.635763  0.645577  0.436356  0.854407  0.795434\n",
       "1  0.558461  0.739984  0.232611  0.304601  0.547140\n",
       "0  0.573449  0.186884  0.794991  0.517485  0.281166"
      ]
     },
     "execution_count": 39,
     "metadata": {},
     "output_type": "execute_result"
    }
   ],
   "source": [
    "# by default sorting is in ascending order ascending = False will sort oin descending order\n",
    "dataframe.sort_index(axis =0, ascending = False)  # axis = 0 means row"
   ]
  },
  {
   "cell_type": "code",
   "execution_count": 49,
   "id": "39879e2b",
   "metadata": {},
   "outputs": [
    {
     "data": {
      "text/html": [
       "<div>\n",
       "<style scoped>\n",
       "    .dataframe tbody tr th:only-of-type {\n",
       "        vertical-align: middle;\n",
       "    }\n",
       "\n",
       "    .dataframe tbody tr th {\n",
       "        vertical-align: top;\n",
       "    }\n",
       "\n",
       "    .dataframe thead th {\n",
       "        text-align: right;\n",
       "    }\n",
       "</style>\n",
       "<table border=\"1\" class=\"dataframe\">\n",
       "  <thead>\n",
       "    <tr style=\"text-align: right;\">\n",
       "      <th></th>\n",
       "      <th>0</th>\n",
       "      <th>1</th>\n",
       "      <th>2</th>\n",
       "      <th>3</th>\n",
       "      <th>4</th>\n",
       "    </tr>\n",
       "  </thead>\n",
       "  <tbody>\n",
       "    <tr>\n",
       "      <th>0</th>\n",
       "      <td>0.573449</td>\n",
       "      <td>0.186884</td>\n",
       "      <td>0.794991</td>\n",
       "      <td>0.517485</td>\n",
       "      <td>0.281166</td>\n",
       "    </tr>\n",
       "    <tr>\n",
       "      <th>1</th>\n",
       "      <td>0.558461</td>\n",
       "      <td>0.739984</td>\n",
       "      <td>0.232611</td>\n",
       "      <td>0.304601</td>\n",
       "      <td>0.547140</td>\n",
       "    </tr>\n",
       "    <tr>\n",
       "      <th>2</th>\n",
       "      <td>0.635763</td>\n",
       "      <td>0.645577</td>\n",
       "      <td>0.436356</td>\n",
       "      <td>0.854407</td>\n",
       "      <td>0.795434</td>\n",
       "    </tr>\n",
       "    <tr>\n",
       "      <th>3</th>\n",
       "      <td>0.542953</td>\n",
       "      <td>0.562664</td>\n",
       "      <td>0.237794</td>\n",
       "      <td>0.435611</td>\n",
       "      <td>0.534821</td>\n",
       "    </tr>\n",
       "    <tr>\n",
       "      <th>4</th>\n",
       "      <td>0.897855</td>\n",
       "      <td>0.517342</td>\n",
       "      <td>0.854448</td>\n",
       "      <td>0.203163</td>\n",
       "      <td>0.760965</td>\n",
       "    </tr>\n",
       "    <tr>\n",
       "      <th>5</th>\n",
       "      <td>0.882789</td>\n",
       "      <td>0.589554</td>\n",
       "      <td>0.559739</td>\n",
       "      <td>0.958911</td>\n",
       "      <td>0.102154</td>\n",
       "    </tr>\n",
       "    <tr>\n",
       "      <th>6</th>\n",
       "      <td>0.003412</td>\n",
       "      <td>0.838461</td>\n",
       "      <td>0.639499</td>\n",
       "      <td>0.696273</td>\n",
       "      <td>0.996290</td>\n",
       "    </tr>\n",
       "    <tr>\n",
       "      <th>7</th>\n",
       "      <td>0.621162</td>\n",
       "      <td>0.389306</td>\n",
       "      <td>0.455008</td>\n",
       "      <td>0.326920</td>\n",
       "      <td>0.922531</td>\n",
       "    </tr>\n",
       "    <tr>\n",
       "      <th>8</th>\n",
       "      <td>0.106797</td>\n",
       "      <td>0.822987</td>\n",
       "      <td>0.841215</td>\n",
       "      <td>0.711649</td>\n",
       "      <td>0.405512</td>\n",
       "    </tr>\n",
       "    <tr>\n",
       "      <th>9</th>\n",
       "      <td>0.631744</td>\n",
       "      <td>0.956624</td>\n",
       "      <td>0.811750</td>\n",
       "      <td>0.878545</td>\n",
       "      <td>0.328628</td>\n",
       "    </tr>\n",
       "  </tbody>\n",
       "</table>\n",
       "</div>"
      ],
      "text/plain": [
       "          0         1         2         3         4\n",
       "0  0.573449  0.186884  0.794991  0.517485  0.281166\n",
       "1  0.558461  0.739984  0.232611  0.304601  0.547140\n",
       "2  0.635763  0.645577  0.436356  0.854407  0.795434\n",
       "3  0.542953  0.562664  0.237794  0.435611  0.534821\n",
       "4  0.897855  0.517342  0.854448  0.203163  0.760965\n",
       "5  0.882789  0.589554  0.559739  0.958911  0.102154\n",
       "6  0.003412  0.838461  0.639499  0.696273  0.996290\n",
       "7  0.621162  0.389306  0.455008  0.326920  0.922531\n",
       "8  0.106797  0.822987  0.841215  0.711649  0.405512\n",
       "9  0.631744  0.956624  0.811750  0.878545  0.328628"
      ]
     },
     "execution_count": 49,
     "metadata": {},
     "output_type": "execute_result"
    }
   ],
   "source": [
    "dataframe.sort_index(axis =1)    # axis = 1 means column"
   ]
  },
  {
   "cell_type": "code",
   "execution_count": 53,
   "id": "c0bac73b",
   "metadata": {},
   "outputs": [],
   "source": [
    "dataframe.column = list(\"ABCDE\")"
   ]
  },
  {
   "cell_type": "code",
   "execution_count": 54,
   "id": "9c2b91c6",
   "metadata": {},
   "outputs": [
    {
     "data": {
      "text/html": [
       "<div>\n",
       "<style scoped>\n",
       "    .dataframe tbody tr th:only-of-type {\n",
       "        vertical-align: middle;\n",
       "    }\n",
       "\n",
       "    .dataframe tbody tr th {\n",
       "        vertical-align: top;\n",
       "    }\n",
       "\n",
       "    .dataframe thead th {\n",
       "        text-align: right;\n",
       "    }\n",
       "</style>\n",
       "<table border=\"1\" class=\"dataframe\">\n",
       "  <thead>\n",
       "    <tr style=\"text-align: right;\">\n",
       "      <th></th>\n",
       "      <th>0</th>\n",
       "      <th>1</th>\n",
       "      <th>2</th>\n",
       "      <th>3</th>\n",
       "      <th>4</th>\n",
       "    </tr>\n",
       "  </thead>\n",
       "  <tbody>\n",
       "    <tr>\n",
       "      <th>0</th>\n",
       "      <td>0.573449</td>\n",
       "      <td>0.186884</td>\n",
       "      <td>0.794991</td>\n",
       "      <td>0.517485</td>\n",
       "      <td>0.281166</td>\n",
       "    </tr>\n",
       "    <tr>\n",
       "      <th>1</th>\n",
       "      <td>0.558461</td>\n",
       "      <td>0.739984</td>\n",
       "      <td>0.232611</td>\n",
       "      <td>0.304601</td>\n",
       "      <td>0.547140</td>\n",
       "    </tr>\n",
       "  </tbody>\n",
       "</table>\n",
       "</div>"
      ],
      "text/plain": [
       "          0         1         2         3         4\n",
       "0  0.573449  0.186884  0.794991  0.517485  0.281166\n",
       "1  0.558461  0.739984  0.232611  0.304601  0.547140"
      ]
     },
     "execution_count": 54,
     "metadata": {},
     "output_type": "execute_result"
    }
   ],
   "source": [
    "dataframe.head(2)"
   ]
  },
  {
   "cell_type": "code",
   "execution_count": 56,
   "id": "bf106333",
   "metadata": {},
   "outputs": [
    {
     "data": {
      "text/plain": [
       "<pandas.core.indexing._LocIndexer at 0x13484c42980>"
      ]
     },
     "execution_count": 56,
     "metadata": {},
     "output_type": "execute_result"
    }
   ],
   "source": [
    "dataframe.loc()    # location of dataframe which we have created"
   ]
  },
  {
   "cell_type": "code",
   "execution_count": 84,
   "id": "fd3135fd",
   "metadata": {},
   "outputs": [
    {
     "data": {
      "text/plain": [
       "0.5734493417112845"
      ]
     },
     "execution_count": 84,
     "metadata": {},
     "output_type": "execute_result"
    }
   ],
   "source": [
    "dataframe.loc[0,0]"
   ]
  },
  {
   "cell_type": "code",
   "execution_count": 85,
   "id": "4c1c3fa1",
   "metadata": {},
   "outputs": [
    {
     "data": {
      "text/html": [
       "<div>\n",
       "<style scoped>\n",
       "    .dataframe tbody tr th:only-of-type {\n",
       "        vertical-align: middle;\n",
       "    }\n",
       "\n",
       "    .dataframe tbody tr th {\n",
       "        vertical-align: top;\n",
       "    }\n",
       "\n",
       "    .dataframe thead th {\n",
       "        text-align: right;\n",
       "    }\n",
       "</style>\n",
       "<table border=\"1\" class=\"dataframe\">\n",
       "  <thead>\n",
       "    <tr style=\"text-align: right;\">\n",
       "      <th></th>\n",
       "      <th>0</th>\n",
       "      <th>1</th>\n",
       "      <th>2</th>\n",
       "      <th>3</th>\n",
       "      <th>4</th>\n",
       "    </tr>\n",
       "  </thead>\n",
       "  <tbody>\n",
       "    <tr>\n",
       "      <th>1</th>\n",
       "      <td>0.558461</td>\n",
       "      <td>0.739984</td>\n",
       "      <td>0.232611</td>\n",
       "      <td>0.304601</td>\n",
       "      <td>0.547140</td>\n",
       "    </tr>\n",
       "    <tr>\n",
       "      <th>2</th>\n",
       "      <td>0.635763</td>\n",
       "      <td>0.645577</td>\n",
       "      <td>0.436356</td>\n",
       "      <td>0.854407</td>\n",
       "      <td>0.795434</td>\n",
       "    </tr>\n",
       "    <tr>\n",
       "      <th>3</th>\n",
       "      <td>0.542953</td>\n",
       "      <td>0.562664</td>\n",
       "      <td>0.237794</td>\n",
       "      <td>0.435611</td>\n",
       "      <td>0.534821</td>\n",
       "    </tr>\n",
       "    <tr>\n",
       "      <th>4</th>\n",
       "      <td>0.897855</td>\n",
       "      <td>0.517342</td>\n",
       "      <td>0.854448</td>\n",
       "      <td>0.203163</td>\n",
       "      <td>0.760965</td>\n",
       "    </tr>\n",
       "    <tr>\n",
       "      <th>5</th>\n",
       "      <td>0.882789</td>\n",
       "      <td>0.589554</td>\n",
       "      <td>0.559739</td>\n",
       "      <td>0.958911</td>\n",
       "      <td>0.102154</td>\n",
       "    </tr>\n",
       "    <tr>\n",
       "      <th>6</th>\n",
       "      <td>0.003412</td>\n",
       "      <td>0.838461</td>\n",
       "      <td>0.639499</td>\n",
       "      <td>0.696273</td>\n",
       "      <td>0.996290</td>\n",
       "    </tr>\n",
       "    <tr>\n",
       "      <th>7</th>\n",
       "      <td>0.621162</td>\n",
       "      <td>0.389306</td>\n",
       "      <td>0.455008</td>\n",
       "      <td>0.326920</td>\n",
       "      <td>0.922531</td>\n",
       "    </tr>\n",
       "    <tr>\n",
       "      <th>8</th>\n",
       "      <td>0.106797</td>\n",
       "      <td>0.822987</td>\n",
       "      <td>0.841215</td>\n",
       "      <td>0.711649</td>\n",
       "      <td>0.405512</td>\n",
       "    </tr>\n",
       "    <tr>\n",
       "      <th>9</th>\n",
       "      <td>0.631744</td>\n",
       "      <td>0.956624</td>\n",
       "      <td>0.811750</td>\n",
       "      <td>0.878545</td>\n",
       "      <td>0.328628</td>\n",
       "    </tr>\n",
       "  </tbody>\n",
       "</table>\n",
       "</div>"
      ],
      "text/plain": [
       "          0         1         2         3         4\n",
       "1  0.558461  0.739984  0.232611  0.304601  0.547140\n",
       "2  0.635763  0.645577  0.436356  0.854407  0.795434\n",
       "3  0.542953  0.562664  0.237794  0.435611  0.534821\n",
       "4  0.897855  0.517342  0.854448  0.203163  0.760965\n",
       "5  0.882789  0.589554  0.559739  0.958911  0.102154\n",
       "6  0.003412  0.838461  0.639499  0.696273  0.996290\n",
       "7  0.621162  0.389306  0.455008  0.326920  0.922531\n",
       "8  0.106797  0.822987  0.841215  0.711649  0.405512\n",
       "9  0.631744  0.956624  0.811750  0.878545  0.328628"
      ]
     },
     "execution_count": 85,
     "metadata": {},
     "output_type": "execute_result"
    }
   ],
   "source": [
    "dataframe.drop(0)   # it remove all the elements at 0th intex in row\n",
    "# it will not remove the index permanently"
   ]
  },
  {
   "cell_type": "code",
   "execution_count": 87,
   "id": "d97b2600",
   "metadata": {},
   "outputs": [
    {
     "data": {
      "text/html": [
       "<div>\n",
       "<style scoped>\n",
       "    .dataframe tbody tr th:only-of-type {\n",
       "        vertical-align: middle;\n",
       "    }\n",
       "\n",
       "    .dataframe tbody tr th {\n",
       "        vertical-align: top;\n",
       "    }\n",
       "\n",
       "    .dataframe thead th {\n",
       "        text-align: right;\n",
       "    }\n",
       "</style>\n",
       "<table border=\"1\" class=\"dataframe\">\n",
       "  <thead>\n",
       "    <tr style=\"text-align: right;\">\n",
       "      <th></th>\n",
       "      <th>0</th>\n",
       "      <th>1</th>\n",
       "      <th>2</th>\n",
       "      <th>3</th>\n",
       "      <th>4</th>\n",
       "    </tr>\n",
       "  </thead>\n",
       "  <tbody>\n",
       "    <tr>\n",
       "      <th>0</th>\n",
       "      <td>0.573449</td>\n",
       "      <td>0.186884</td>\n",
       "      <td>0.794991</td>\n",
       "      <td>0.517485</td>\n",
       "      <td>0.281166</td>\n",
       "    </tr>\n",
       "    <tr>\n",
       "      <th>1</th>\n",
       "      <td>0.558461</td>\n",
       "      <td>0.739984</td>\n",
       "      <td>0.232611</td>\n",
       "      <td>0.304601</td>\n",
       "      <td>0.547140</td>\n",
       "    </tr>\n",
       "    <tr>\n",
       "      <th>2</th>\n",
       "      <td>0.635763</td>\n",
       "      <td>0.645577</td>\n",
       "      <td>0.436356</td>\n",
       "      <td>0.854407</td>\n",
       "      <td>0.795434</td>\n",
       "    </tr>\n",
       "    <tr>\n",
       "      <th>3</th>\n",
       "      <td>0.542953</td>\n",
       "      <td>0.562664</td>\n",
       "      <td>0.237794</td>\n",
       "      <td>0.435611</td>\n",
       "      <td>0.534821</td>\n",
       "    </tr>\n",
       "    <tr>\n",
       "      <th>4</th>\n",
       "      <td>0.897855</td>\n",
       "      <td>0.517342</td>\n",
       "      <td>0.854448</td>\n",
       "      <td>0.203163</td>\n",
       "      <td>0.760965</td>\n",
       "    </tr>\n",
       "  </tbody>\n",
       "</table>\n",
       "</div>"
      ],
      "text/plain": [
       "          0         1         2         3         4\n",
       "0  0.573449  0.186884  0.794991  0.517485  0.281166\n",
       "1  0.558461  0.739984  0.232611  0.304601  0.547140\n",
       "2  0.635763  0.645577  0.436356  0.854407  0.795434\n",
       "3  0.542953  0.562664  0.237794  0.435611  0.534821\n",
       "4  0.897855  0.517342  0.854448  0.203163  0.760965"
      ]
     },
     "execution_count": 87,
     "metadata": {},
     "output_type": "execute_result"
    }
   ],
   "source": [
    "dataframe.head()  # index not removed permanently"
   ]
  },
  {
   "cell_type": "code",
   "execution_count": 88,
   "id": "1c2d0fd3",
   "metadata": {},
   "outputs": [
    {
     "data": {
      "text/html": [
       "<div>\n",
       "<style scoped>\n",
       "    .dataframe tbody tr th:only-of-type {\n",
       "        vertical-align: middle;\n",
       "    }\n",
       "\n",
       "    .dataframe tbody tr th {\n",
       "        vertical-align: top;\n",
       "    }\n",
       "\n",
       "    .dataframe thead th {\n",
       "        text-align: right;\n",
       "    }\n",
       "</style>\n",
       "<table border=\"1\" class=\"dataframe\">\n",
       "  <thead>\n",
       "    <tr style=\"text-align: right;\">\n",
       "      <th></th>\n",
       "      <th>1</th>\n",
       "      <th>2</th>\n",
       "      <th>3</th>\n",
       "      <th>4</th>\n",
       "    </tr>\n",
       "  </thead>\n",
       "  <tbody>\n",
       "    <tr>\n",
       "      <th>0</th>\n",
       "      <td>0.186884</td>\n",
       "      <td>0.794991</td>\n",
       "      <td>0.517485</td>\n",
       "      <td>0.281166</td>\n",
       "    </tr>\n",
       "    <tr>\n",
       "      <th>1</th>\n",
       "      <td>0.739984</td>\n",
       "      <td>0.232611</td>\n",
       "      <td>0.304601</td>\n",
       "      <td>0.547140</td>\n",
       "    </tr>\n",
       "    <tr>\n",
       "      <th>2</th>\n",
       "      <td>0.645577</td>\n",
       "      <td>0.436356</td>\n",
       "      <td>0.854407</td>\n",
       "      <td>0.795434</td>\n",
       "    </tr>\n",
       "    <tr>\n",
       "      <th>3</th>\n",
       "      <td>0.562664</td>\n",
       "      <td>0.237794</td>\n",
       "      <td>0.435611</td>\n",
       "      <td>0.534821</td>\n",
       "    </tr>\n",
       "    <tr>\n",
       "      <th>4</th>\n",
       "      <td>0.517342</td>\n",
       "      <td>0.854448</td>\n",
       "      <td>0.203163</td>\n",
       "      <td>0.760965</td>\n",
       "    </tr>\n",
       "    <tr>\n",
       "      <th>5</th>\n",
       "      <td>0.589554</td>\n",
       "      <td>0.559739</td>\n",
       "      <td>0.958911</td>\n",
       "      <td>0.102154</td>\n",
       "    </tr>\n",
       "    <tr>\n",
       "      <th>6</th>\n",
       "      <td>0.838461</td>\n",
       "      <td>0.639499</td>\n",
       "      <td>0.696273</td>\n",
       "      <td>0.996290</td>\n",
       "    </tr>\n",
       "    <tr>\n",
       "      <th>7</th>\n",
       "      <td>0.389306</td>\n",
       "      <td>0.455008</td>\n",
       "      <td>0.326920</td>\n",
       "      <td>0.922531</td>\n",
       "    </tr>\n",
       "    <tr>\n",
       "      <th>8</th>\n",
       "      <td>0.822987</td>\n",
       "      <td>0.841215</td>\n",
       "      <td>0.711649</td>\n",
       "      <td>0.405512</td>\n",
       "    </tr>\n",
       "    <tr>\n",
       "      <th>9</th>\n",
       "      <td>0.956624</td>\n",
       "      <td>0.811750</td>\n",
       "      <td>0.878545</td>\n",
       "      <td>0.328628</td>\n",
       "    </tr>\n",
       "  </tbody>\n",
       "</table>\n",
       "</div>"
      ],
      "text/plain": [
       "          1         2         3         4\n",
       "0  0.186884  0.794991  0.517485  0.281166\n",
       "1  0.739984  0.232611  0.304601  0.547140\n",
       "2  0.645577  0.436356  0.854407  0.795434\n",
       "3  0.562664  0.237794  0.435611  0.534821\n",
       "4  0.517342  0.854448  0.203163  0.760965\n",
       "5  0.589554  0.559739  0.958911  0.102154\n",
       "6  0.838461  0.639499  0.696273  0.996290\n",
       "7  0.389306  0.455008  0.326920  0.922531\n",
       "8  0.822987  0.841215  0.711649  0.405512\n",
       "9  0.956624  0.811750  0.878545  0.328628"
      ]
     },
     "execution_count": 88,
     "metadata": {},
     "output_type": "execute_result"
    }
   ],
   "source": [
    "dataframe.drop(0, axis = 1)  # asix =1 rmeove all the elements ot 0th index in column\n",
    "# it will not remove the index permanently"
   ]
  },
  {
   "cell_type": "code",
   "execution_count": 91,
   "id": "ec81a6f3",
   "metadata": {},
   "outputs": [
    {
     "data": {
      "text/html": [
       "<div>\n",
       "<style scoped>\n",
       "    .dataframe tbody tr th:only-of-type {\n",
       "        vertical-align: middle;\n",
       "    }\n",
       "\n",
       "    .dataframe tbody tr th {\n",
       "        vertical-align: top;\n",
       "    }\n",
       "\n",
       "    .dataframe thead th {\n",
       "        text-align: right;\n",
       "    }\n",
       "</style>\n",
       "<table border=\"1\" class=\"dataframe\">\n",
       "  <thead>\n",
       "    <tr style=\"text-align: right;\">\n",
       "      <th></th>\n",
       "      <th>0</th>\n",
       "      <th>1</th>\n",
       "      <th>2</th>\n",
       "      <th>3</th>\n",
       "      <th>4</th>\n",
       "    </tr>\n",
       "  </thead>\n",
       "  <tbody>\n",
       "    <tr>\n",
       "      <th>6</th>\n",
       "      <td>0.003412</td>\n",
       "      <td>0.838461</td>\n",
       "      <td>0.639499</td>\n",
       "      <td>0.696273</td>\n",
       "      <td>0.99629</td>\n",
       "    </tr>\n",
       "  </tbody>\n",
       "</table>\n",
       "</div>"
      ],
      "text/plain": [
       "          0         1         2         3        4\n",
       "6  0.003412  0.838461  0.639499  0.696273  0.99629"
      ]
     },
     "execution_count": 91,
     "metadata": {},
     "output_type": "execute_result"
    }
   ],
   "source": [
    "dataframe.loc[(dataframe[0]<.058)]    # return the table where value is less than 0.58 at 0th index of column"
   ]
  },
  {
   "cell_type": "code",
   "execution_count": 98,
   "id": "a3e542f9",
   "metadata": {},
   "outputs": [
    {
     "data": {
      "text/html": [
       "<div>\n",
       "<style scoped>\n",
       "    .dataframe tbody tr th:only-of-type {\n",
       "        vertical-align: middle;\n",
       "    }\n",
       "\n",
       "    .dataframe tbody tr th {\n",
       "        vertical-align: top;\n",
       "    }\n",
       "\n",
       "    .dataframe thead th {\n",
       "        text-align: right;\n",
       "    }\n",
       "</style>\n",
       "<table border=\"1\" class=\"dataframe\">\n",
       "  <thead>\n",
       "    <tr style=\"text-align: right;\">\n",
       "      <th></th>\n",
       "      <th>0</th>\n",
       "      <th>1</th>\n",
       "      <th>2</th>\n",
       "      <th>3</th>\n",
       "      <th>4</th>\n",
       "    </tr>\n",
       "  </thead>\n",
       "  <tbody>\n",
       "  </tbody>\n",
       "</table>\n",
       "</div>"
      ],
      "text/plain": [
       "Empty DataFrame\n",
       "Columns: [0, 1, 2, 3, 4]\n",
       "Index: []"
      ]
     },
     "execution_count": 98,
     "metadata": {},
     "output_type": "execute_result"
    }
   ],
   "source": [
    "dataframe.loc[(dataframe[0]<.058) & (dataframe[3]> 1)] \n",
    "# here no any value is less than 1 so it returned nothing"
   ]
  },
  {
   "cell_type": "code",
   "execution_count": 101,
   "id": "8fac8b82",
   "metadata": {},
   "outputs": [
    {
     "data": {
      "text/plain": [
       "0.2811660944183809"
      ]
     },
     "execution_count": 101,
     "metadata": {},
     "output_type": "execute_result"
    }
   ],
   "source": [
    "dataframe.iloc[0,4]   # it will only return the value at mentioned index"
   ]
  },
  {
   "cell_type": "code",
   "execution_count": 106,
   "id": "d71821cd",
   "metadata": {},
   "outputs": [
    {
     "data": {
      "text/html": [
       "<div>\n",
       "<style scoped>\n",
       "    .dataframe tbody tr th:only-of-type {\n",
       "        vertical-align: middle;\n",
       "    }\n",
       "\n",
       "    .dataframe tbody tr th {\n",
       "        vertical-align: top;\n",
       "    }\n",
       "\n",
       "    .dataframe thead th {\n",
       "        text-align: right;\n",
       "    }\n",
       "</style>\n",
       "<table border=\"1\" class=\"dataframe\">\n",
       "  <thead>\n",
       "    <tr style=\"text-align: right;\">\n",
       "      <th></th>\n",
       "      <th>0</th>\n",
       "      <th>1</th>\n",
       "      <th>2</th>\n",
       "      <th>3</th>\n",
       "      <th>4</th>\n",
       "    </tr>\n",
       "  </thead>\n",
       "  <tbody>\n",
       "    <tr>\n",
       "      <th>0</th>\n",
       "      <td>False</td>\n",
       "      <td>False</td>\n",
       "      <td>False</td>\n",
       "      <td>False</td>\n",
       "      <td>False</td>\n",
       "    </tr>\n",
       "    <tr>\n",
       "      <th>1</th>\n",
       "      <td>False</td>\n",
       "      <td>False</td>\n",
       "      <td>False</td>\n",
       "      <td>False</td>\n",
       "      <td>False</td>\n",
       "    </tr>\n",
       "    <tr>\n",
       "      <th>2</th>\n",
       "      <td>False</td>\n",
       "      <td>False</td>\n",
       "      <td>False</td>\n",
       "      <td>False</td>\n",
       "      <td>False</td>\n",
       "    </tr>\n",
       "    <tr>\n",
       "      <th>3</th>\n",
       "      <td>False</td>\n",
       "      <td>False</td>\n",
       "      <td>False</td>\n",
       "      <td>False</td>\n",
       "      <td>False</td>\n",
       "    </tr>\n",
       "    <tr>\n",
       "      <th>4</th>\n",
       "      <td>False</td>\n",
       "      <td>False</td>\n",
       "      <td>False</td>\n",
       "      <td>False</td>\n",
       "      <td>False</td>\n",
       "    </tr>\n",
       "    <tr>\n",
       "      <th>5</th>\n",
       "      <td>False</td>\n",
       "      <td>False</td>\n",
       "      <td>False</td>\n",
       "      <td>False</td>\n",
       "      <td>False</td>\n",
       "    </tr>\n",
       "    <tr>\n",
       "      <th>6</th>\n",
       "      <td>False</td>\n",
       "      <td>False</td>\n",
       "      <td>False</td>\n",
       "      <td>False</td>\n",
       "      <td>False</td>\n",
       "    </tr>\n",
       "    <tr>\n",
       "      <th>7</th>\n",
       "      <td>False</td>\n",
       "      <td>False</td>\n",
       "      <td>False</td>\n",
       "      <td>False</td>\n",
       "      <td>False</td>\n",
       "    </tr>\n",
       "    <tr>\n",
       "      <th>8</th>\n",
       "      <td>False</td>\n",
       "      <td>False</td>\n",
       "      <td>False</td>\n",
       "      <td>False</td>\n",
       "      <td>False</td>\n",
       "    </tr>\n",
       "    <tr>\n",
       "      <th>9</th>\n",
       "      <td>False</td>\n",
       "      <td>False</td>\n",
       "      <td>False</td>\n",
       "      <td>False</td>\n",
       "      <td>False</td>\n",
       "    </tr>\n",
       "  </tbody>\n",
       "</table>\n",
       "</div>"
      ],
      "text/plain": [
       "       0      1      2      3      4\n",
       "0  False  False  False  False  False\n",
       "1  False  False  False  False  False\n",
       "2  False  False  False  False  False\n",
       "3  False  False  False  False  False\n",
       "4  False  False  False  False  False\n",
       "5  False  False  False  False  False\n",
       "6  False  False  False  False  False\n",
       "7  False  False  False  False  False\n",
       "8  False  False  False  False  False\n",
       "9  False  False  False  False  False"
      ]
     },
     "execution_count": 106,
     "metadata": {},
     "output_type": "execute_result"
    }
   ],
   "source": [
    "dataframe.isnull()   # it will return True where value is Null and False where value is not null"
   ]
  },
  {
   "cell_type": "code",
   "execution_count": 108,
   "id": "99654176",
   "metadata": {},
   "outputs": [
    {
     "data": {
      "text/html": [
       "<div>\n",
       "<style scoped>\n",
       "    .dataframe tbody tr th:only-of-type {\n",
       "        vertical-align: middle;\n",
       "    }\n",
       "\n",
       "    .dataframe tbody tr th {\n",
       "        vertical-align: top;\n",
       "    }\n",
       "\n",
       "    .dataframe thead th {\n",
       "        text-align: right;\n",
       "    }\n",
       "</style>\n",
       "<table border=\"1\" class=\"dataframe\">\n",
       "  <thead>\n",
       "    <tr style=\"text-align: right;\">\n",
       "      <th></th>\n",
       "      <th>0</th>\n",
       "      <th>1</th>\n",
       "      <th>2</th>\n",
       "      <th>3</th>\n",
       "      <th>4</th>\n",
       "    </tr>\n",
       "  </thead>\n",
       "  <tbody>\n",
       "    <tr>\n",
       "      <th>0</th>\n",
       "      <td>0.573449</td>\n",
       "      <td>0.186884</td>\n",
       "      <td>0.794991</td>\n",
       "      <td>0.517485</td>\n",
       "      <td>0.281166</td>\n",
       "    </tr>\n",
       "    <tr>\n",
       "      <th>1</th>\n",
       "      <td>0.558461</td>\n",
       "      <td>0.739984</td>\n",
       "      <td>0.232611</td>\n",
       "      <td>0.304601</td>\n",
       "      <td>0.547140</td>\n",
       "    </tr>\n",
       "    <tr>\n",
       "      <th>2</th>\n",
       "      <td>0.635763</td>\n",
       "      <td>0.645577</td>\n",
       "      <td>0.436356</td>\n",
       "      <td>0.854407</td>\n",
       "      <td>0.795434</td>\n",
       "    </tr>\n",
       "    <tr>\n",
       "      <th>3</th>\n",
       "      <td>0.542953</td>\n",
       "      <td>0.562664</td>\n",
       "      <td>0.237794</td>\n",
       "      <td>0.435611</td>\n",
       "      <td>0.534821</td>\n",
       "    </tr>\n",
       "    <tr>\n",
       "      <th>4</th>\n",
       "      <td>0.897855</td>\n",
       "      <td>0.517342</td>\n",
       "      <td>0.854448</td>\n",
       "      <td>0.203163</td>\n",
       "      <td>0.760965</td>\n",
       "    </tr>\n",
       "    <tr>\n",
       "      <th>5</th>\n",
       "      <td>0.882789</td>\n",
       "      <td>0.589554</td>\n",
       "      <td>0.559739</td>\n",
       "      <td>0.958911</td>\n",
       "      <td>0.102154</td>\n",
       "    </tr>\n",
       "    <tr>\n",
       "      <th>6</th>\n",
       "      <td>0.003412</td>\n",
       "      <td>0.838461</td>\n",
       "      <td>0.639499</td>\n",
       "      <td>0.696273</td>\n",
       "      <td>0.996290</td>\n",
       "    </tr>\n",
       "    <tr>\n",
       "      <th>7</th>\n",
       "      <td>0.621162</td>\n",
       "      <td>0.389306</td>\n",
       "      <td>0.455008</td>\n",
       "      <td>0.326920</td>\n",
       "      <td>0.922531</td>\n",
       "    </tr>\n",
       "    <tr>\n",
       "      <th>8</th>\n",
       "      <td>0.106797</td>\n",
       "      <td>0.822987</td>\n",
       "      <td>0.841215</td>\n",
       "      <td>0.711649</td>\n",
       "      <td>0.405512</td>\n",
       "    </tr>\n",
       "    <tr>\n",
       "      <th>9</th>\n",
       "      <td>0.631744</td>\n",
       "      <td>0.956624</td>\n",
       "      <td>0.811750</td>\n",
       "      <td>0.878545</td>\n",
       "      <td>0.328628</td>\n",
       "    </tr>\n",
       "  </tbody>\n",
       "</table>\n",
       "</div>"
      ],
      "text/plain": [
       "          0         1         2         3         4\n",
       "0  0.573449  0.186884  0.794991  0.517485  0.281166\n",
       "1  0.558461  0.739984  0.232611  0.304601  0.547140\n",
       "2  0.635763  0.645577  0.436356  0.854407  0.795434\n",
       "3  0.542953  0.562664  0.237794  0.435611  0.534821\n",
       "4  0.897855  0.517342  0.854448  0.203163  0.760965\n",
       "5  0.882789  0.589554  0.559739  0.958911  0.102154\n",
       "6  0.003412  0.838461  0.639499  0.696273  0.996290\n",
       "7  0.621162  0.389306  0.455008  0.326920  0.922531\n",
       "8  0.106797  0.822987  0.841215  0.711649  0.405512\n",
       "9  0.631744  0.956624  0.811750  0.878545  0.328628"
      ]
     },
     "execution_count": 108,
     "metadata": {},
     "output_type": "execute_result"
    }
   ],
   "source": [
    "dataframe.drop_duplicates() # remove duplicates values"
   ]
  },
  {
   "cell_type": "code",
   "execution_count": 110,
   "id": "b3807ea2",
   "metadata": {},
   "outputs": [
    {
     "data": {
      "text/plain": [
       "(10, 5)"
      ]
     },
     "execution_count": 110,
     "metadata": {},
     "output_type": "execute_result"
    }
   ],
   "source": [
    "dataframe.shape    # to get shape of dataset"
   ]
  },
  {
   "cell_type": "code",
   "execution_count": 112,
   "id": "f34a265d",
   "metadata": {},
   "outputs": [
    {
     "name": "stdout",
     "output_type": "stream",
     "text": [
      "<class 'pandas.core.frame.DataFrame'>\n",
      "RangeIndex: 10 entries, 0 to 9\n",
      "Data columns (total 5 columns):\n",
      " #   Column  Non-Null Count  Dtype  \n",
      "---  ------  --------------  -----  \n",
      " 0   0       10 non-null     float64\n",
      " 1   1       10 non-null     float64\n",
      " 2   2       10 non-null     float64\n",
      " 3   3       10 non-null     float64\n",
      " 4   4       10 non-null     float64\n",
      "dtypes: float64(5)\n",
      "memory usage: 528.0 bytes\n"
     ]
    }
   ],
   "source": [
    "dataframe.info()      # information about dataset"
   ]
  },
  {
   "cell_type": "code",
   "execution_count": 113,
   "id": "f91e4230",
   "metadata": {},
   "outputs": [
    {
     "data": {
      "text/plain": [
       "0    0.545438\n",
       "1    0.624938\n",
       "2    0.586341\n",
       "3    0.588757\n",
       "4    0.567464\n",
       "dtype: float64"
      ]
     },
     "execution_count": 113,
     "metadata": {},
     "output_type": "execute_result"
    }
   ],
   "source": [
    "dataframe.mean()"
   ]
  },
  {
   "cell_type": "code",
   "execution_count": 114,
   "id": "335878c3",
   "metadata": {},
   "outputs": [
    {
     "data": {
      "text/html": [
       "<div>\n",
       "<style scoped>\n",
       "    .dataframe tbody tr th:only-of-type {\n",
       "        vertical-align: middle;\n",
       "    }\n",
       "\n",
       "    .dataframe tbody tr th {\n",
       "        vertical-align: top;\n",
       "    }\n",
       "\n",
       "    .dataframe thead th {\n",
       "        text-align: right;\n",
       "    }\n",
       "</style>\n",
       "<table border=\"1\" class=\"dataframe\">\n",
       "  <thead>\n",
       "    <tr style=\"text-align: right;\">\n",
       "      <th></th>\n",
       "      <th>0</th>\n",
       "      <th>1</th>\n",
       "      <th>2</th>\n",
       "      <th>3</th>\n",
       "      <th>4</th>\n",
       "    </tr>\n",
       "  </thead>\n",
       "  <tbody>\n",
       "    <tr>\n",
       "      <th>0</th>\n",
       "      <td>1.000000</td>\n",
       "      <td>-0.421621</td>\n",
       "      <td>-0.091448</td>\n",
       "      <td>-0.143189</td>\n",
       "      <td>-0.302893</td>\n",
       "    </tr>\n",
       "    <tr>\n",
       "      <th>1</th>\n",
       "      <td>-0.421621</td>\n",
       "      <td>1.000000</td>\n",
       "      <td>0.052691</td>\n",
       "      <td>0.447551</td>\n",
       "      <td>0.036279</td>\n",
       "    </tr>\n",
       "    <tr>\n",
       "      <th>2</th>\n",
       "      <td>-0.091448</td>\n",
       "      <td>0.052691</td>\n",
       "      <td>1.000000</td>\n",
       "      <td>0.211686</td>\n",
       "      <td>-0.203657</td>\n",
       "    </tr>\n",
       "    <tr>\n",
       "      <th>3</th>\n",
       "      <td>-0.143189</td>\n",
       "      <td>0.447551</td>\n",
       "      <td>0.211686</td>\n",
       "      <td>1.000000</td>\n",
       "      <td>-0.409789</td>\n",
       "    </tr>\n",
       "    <tr>\n",
       "      <th>4</th>\n",
       "      <td>-0.302893</td>\n",
       "      <td>0.036279</td>\n",
       "      <td>-0.203657</td>\n",
       "      <td>-0.409789</td>\n",
       "      <td>1.000000</td>\n",
       "    </tr>\n",
       "  </tbody>\n",
       "</table>\n",
       "</div>"
      ],
      "text/plain": [
       "          0         1         2         3         4\n",
       "0  1.000000 -0.421621 -0.091448 -0.143189 -0.302893\n",
       "1 -0.421621  1.000000  0.052691  0.447551  0.036279\n",
       "2 -0.091448  0.052691  1.000000  0.211686 -0.203657\n",
       "3 -0.143189  0.447551  0.211686  1.000000 -0.409789\n",
       "4 -0.302893  0.036279 -0.203657 -0.409789  1.000000"
      ]
     },
     "execution_count": 114,
     "metadata": {},
     "output_type": "execute_result"
    }
   ],
   "source": [
    "dataframe.corr()"
   ]
  },
  {
   "cell_type": "code",
   "execution_count": 115,
   "id": "ac9cd06b",
   "metadata": {},
   "outputs": [
    {
     "data": {
      "text/plain": [
       "0    10\n",
       "1    10\n",
       "2    10\n",
       "3    10\n",
       "4    10\n",
       "dtype: int64"
      ]
     },
     "execution_count": 115,
     "metadata": {},
     "output_type": "execute_result"
    }
   ],
   "source": [
    "dataframe.count()"
   ]
  },
  {
   "cell_type": "code",
   "execution_count": 118,
   "id": "3813228e",
   "metadata": {},
   "outputs": [
    {
     "data": {
      "text/plain": [
       "0    0.897855\n",
       "1    0.956624\n",
       "2    0.854448\n",
       "3    0.958911\n",
       "4    0.996290\n",
       "dtype: float64"
      ]
     },
     "execution_count": 118,
     "metadata": {},
     "output_type": "execute_result"
    }
   ],
   "source": [
    "dataframe.max()"
   ]
  },
  {
   "cell_type": "code",
   "execution_count": 119,
   "id": "7b592544",
   "metadata": {},
   "outputs": [
    {
     "data": {
      "text/plain": [
       "0    0.003412\n",
       "1    0.186884\n",
       "2    0.232611\n",
       "3    0.203163\n",
       "4    0.102154\n",
       "dtype: float64"
      ]
     },
     "execution_count": 119,
     "metadata": {},
     "output_type": "execute_result"
    }
   ],
   "source": [
    "dataframe.min()"
   ]
  },
  {
   "cell_type": "code",
   "execution_count": 120,
   "id": "c76248c1",
   "metadata": {},
   "outputs": [
    {
     "data": {
      "text/plain": [
       "0    0.597305\n",
       "1    0.617565\n",
       "2    0.599619\n",
       "3    0.606879\n",
       "4    0.540980\n",
       "dtype: float64"
      ]
     },
     "execution_count": 120,
     "metadata": {},
     "output_type": "execute_result"
    }
   ],
   "source": [
    "dataframe.median()"
   ]
  },
  {
   "cell_type": "code",
   "execution_count": 121,
   "id": "0dbf8ed6",
   "metadata": {},
   "outputs": [
    {
     "data": {
      "text/html": [
       "<div>\n",
       "<style scoped>\n",
       "    .dataframe tbody tr th:only-of-type {\n",
       "        vertical-align: middle;\n",
       "    }\n",
       "\n",
       "    .dataframe tbody tr th {\n",
       "        vertical-align: top;\n",
       "    }\n",
       "\n",
       "    .dataframe thead th {\n",
       "        text-align: right;\n",
       "    }\n",
       "</style>\n",
       "<table border=\"1\" class=\"dataframe\">\n",
       "  <thead>\n",
       "    <tr style=\"text-align: right;\">\n",
       "      <th></th>\n",
       "      <th>0</th>\n",
       "      <th>1</th>\n",
       "      <th>2</th>\n",
       "      <th>3</th>\n",
       "      <th>4</th>\n",
       "    </tr>\n",
       "  </thead>\n",
       "  <tbody>\n",
       "    <tr>\n",
       "      <th>0</th>\n",
       "      <td>0.003412</td>\n",
       "      <td>0.186884</td>\n",
       "      <td>0.232611</td>\n",
       "      <td>0.203163</td>\n",
       "      <td>0.102154</td>\n",
       "    </tr>\n",
       "    <tr>\n",
       "      <th>1</th>\n",
       "      <td>0.106797</td>\n",
       "      <td>0.389306</td>\n",
       "      <td>0.237794</td>\n",
       "      <td>0.304601</td>\n",
       "      <td>0.281166</td>\n",
       "    </tr>\n",
       "    <tr>\n",
       "      <th>2</th>\n",
       "      <td>0.542953</td>\n",
       "      <td>0.517342</td>\n",
       "      <td>0.436356</td>\n",
       "      <td>0.326920</td>\n",
       "      <td>0.328628</td>\n",
       "    </tr>\n",
       "    <tr>\n",
       "      <th>3</th>\n",
       "      <td>0.558461</td>\n",
       "      <td>0.562664</td>\n",
       "      <td>0.455008</td>\n",
       "      <td>0.435611</td>\n",
       "      <td>0.405512</td>\n",
       "    </tr>\n",
       "    <tr>\n",
       "      <th>4</th>\n",
       "      <td>0.573449</td>\n",
       "      <td>0.589554</td>\n",
       "      <td>0.559739</td>\n",
       "      <td>0.517485</td>\n",
       "      <td>0.534821</td>\n",
       "    </tr>\n",
       "    <tr>\n",
       "      <th>5</th>\n",
       "      <td>0.621162</td>\n",
       "      <td>0.645577</td>\n",
       "      <td>0.639499</td>\n",
       "      <td>0.696273</td>\n",
       "      <td>0.547140</td>\n",
       "    </tr>\n",
       "    <tr>\n",
       "      <th>6</th>\n",
       "      <td>0.631744</td>\n",
       "      <td>0.739984</td>\n",
       "      <td>0.794991</td>\n",
       "      <td>0.711649</td>\n",
       "      <td>0.760965</td>\n",
       "    </tr>\n",
       "    <tr>\n",
       "      <th>7</th>\n",
       "      <td>0.635763</td>\n",
       "      <td>0.822987</td>\n",
       "      <td>0.811750</td>\n",
       "      <td>0.854407</td>\n",
       "      <td>0.795434</td>\n",
       "    </tr>\n",
       "    <tr>\n",
       "      <th>8</th>\n",
       "      <td>0.882789</td>\n",
       "      <td>0.838461</td>\n",
       "      <td>0.841215</td>\n",
       "      <td>0.878545</td>\n",
       "      <td>0.922531</td>\n",
       "    </tr>\n",
       "    <tr>\n",
       "      <th>9</th>\n",
       "      <td>0.897855</td>\n",
       "      <td>0.956624</td>\n",
       "      <td>0.854448</td>\n",
       "      <td>0.958911</td>\n",
       "      <td>0.996290</td>\n",
       "    </tr>\n",
       "  </tbody>\n",
       "</table>\n",
       "</div>"
      ],
      "text/plain": [
       "          0         1         2         3         4\n",
       "0  0.003412  0.186884  0.232611  0.203163  0.102154\n",
       "1  0.106797  0.389306  0.237794  0.304601  0.281166\n",
       "2  0.542953  0.517342  0.436356  0.326920  0.328628\n",
       "3  0.558461  0.562664  0.455008  0.435611  0.405512\n",
       "4  0.573449  0.589554  0.559739  0.517485  0.534821\n",
       "5  0.621162  0.645577  0.639499  0.696273  0.547140\n",
       "6  0.631744  0.739984  0.794991  0.711649  0.760965\n",
       "7  0.635763  0.822987  0.811750  0.854407  0.795434\n",
       "8  0.882789  0.838461  0.841215  0.878545  0.922531\n",
       "9  0.897855  0.956624  0.854448  0.958911  0.996290"
      ]
     },
     "execution_count": 121,
     "metadata": {},
     "output_type": "execute_result"
    }
   ],
   "source": [
    "dataframe.mode()"
   ]
  },
  {
   "cell_type": "code",
   "execution_count": 122,
   "id": "dbeaba57",
   "metadata": {},
   "outputs": [
    {
     "data": {
      "text/plain": [
       "0    0.288002\n",
       "1    0.229156\n",
       "2    0.240618\n",
       "3    0.267653\n",
       "4    0.294884\n",
       "dtype: float64"
      ]
     },
     "execution_count": 122,
     "metadata": {},
     "output_type": "execute_result"
    }
   ],
   "source": [
    "dataframe.std()"
   ]
  },
  {
   "cell_type": "code",
   "execution_count": null,
   "id": "33995cdd",
   "metadata": {},
   "outputs": [],
   "source": []
  }
 ],
 "metadata": {
  "kernelspec": {
   "display_name": "Python 3 (ipykernel)",
   "language": "python",
   "name": "python3"
  },
  "language_info": {
   "codemirror_mode": {
    "name": "ipython",
    "version": 3
   },
   "file_extension": ".py",
   "mimetype": "text/x-python",
   "name": "python",
   "nbconvert_exporter": "python",
   "pygments_lexer": "ipython3",
   "version": "3.10.4"
  }
 },
 "nbformat": 4,
 "nbformat_minor": 5
}
