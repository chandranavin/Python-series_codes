{
 "cells": [
  {
   "cell_type": "code",
   "execution_count": 20,
   "id": "05834b55",
   "metadata": {},
   "outputs": [
    {
     "name": "stdout",
     "output_type": "stream",
     "text": [
      "<class 'dict'>\n"
     ]
    }
   ],
   "source": [
    "d1 = {}\n",
    "print(type(d1))"
   ]
  },
  {
   "cell_type": "code",
   "execution_count": 21,
   "id": "15ab43f0",
   "metadata": {},
   "outputs": [
    {
     "name": "stdout",
     "output_type": "stream",
     "text": [
      "{'maths': 80, 'physics': 88, 'chemistry': 70, 'english': 80, 'hindi': 87, 'computer': 90}\n",
      "70\n",
      "{'maths': 80, 'physics': 88, 'chemistry': 70, 'english': 80, 'hindi': 87, 'computer': 90, 'science': 89}\n",
      "{'maths': 80, 'physics': 88, 'chemistry': 70, 'english': 80, 'hindi': 87, 'computer': 90}\n"
     ]
    }
   ],
   "source": [
    "marks={\"maths\":80, \"physics\":88, \"chemistry\":70, \"english\":80, \"hindi\":87, \"computer\":90}\n",
    "print(marks)\n",
    "print(marks[\"chemistry\"])\n",
    "\n",
    "marks[\"science\"]=89\n",
    "print(marks)\n",
    "\n",
    "del(marks[\"science\"])\n",
    "print(marks)"
   ]
  },
  {
   "cell_type": "code",
   "execution_count": 22,
   "id": "7e66f21f",
   "metadata": {},
   "outputs": [
    {
     "name": "stdout",
     "output_type": "stream",
     "text": [
      "dict_keys(['maths', 'physics', 'chemistry', 'english', 'hindi', 'computer'])\n",
      "dict_items([('maths', 80), ('physics', 88), ('chemistry', 70), ('english', 80), ('hindi', 87), ('computer', 90)])\n"
     ]
    }
   ],
   "source": [
    "print(marks.keys())\n",
    "print(marks.items())"
   ]
  },
  {
   "cell_type": "code",
   "execution_count": null,
   "id": "922006f5",
   "metadata": {},
   "outputs": [],
   "source": []
  }
 ],
 "metadata": {
  "kernelspec": {
   "display_name": "Python 3 (ipykernel)",
   "language": "python",
   "name": "python3"
  },
  "language_info": {
   "codemirror_mode": {
    "name": "ipython",
    "version": 3
   },
   "file_extension": ".py",
   "mimetype": "text/x-python",
   "name": "python",
   "nbconvert_exporter": "python",
   "pygments_lexer": "ipython3",
   "version": "3.10.1"
  }
 },
 "nbformat": 4,
 "nbformat_minor": 5
}
