{
 "cells": [
  {
   "cell_type": "code",
   "execution_count": 17,
   "id": "ac38400d",
   "metadata": {},
   "outputs": [
    {
     "name": "stdout",
     "output_type": "stream",
     "text": [
      "102 20 30 55\n",
      "['1', '0', '2', ' ', '2', '0', ' ', '3', '0', ' ', '5', '5']\n"
     ]
    }
   ],
   "source": [
    "l1 = [i for i in input()]            # it will split each number as well as space as indivisual character\n",
    "print(l1)"
   ]
  },
  {
   "cell_type": "code",
   "execution_count": 18,
   "id": "0c85df30",
   "metadata": {},
   "outputs": [
    {
     "name": "stdout",
     "output_type": "stream",
     "text": [
      "10 20 30 60\n",
      "['10', '20', '30', '60']\n"
     ]
    }
   ],
   "source": [
    "l1 = [i for i in input().split()]         # we can give multiple input by space seprated value\n",
    "print(l1)                                    # .split() will consider evry input after space as new element"
   ]
  },
  {
   "cell_type": "code",
   "execution_count": 22,
   "id": "a89e06d2",
   "metadata": {},
   "outputs": [
    {
     "name": "stdout",
     "output_type": "stream",
     "text": [
      "10 20 10.2 20 19.36\n",
      "[10, 20, 10.2, 20, 19.36]\n"
     ]
    }
   ],
   "source": [
    "l1 = [eval(i) for i in input().split()]          # eval() will evaluate the input type by default\n",
    "print(l1)"
   ]
  },
  {
   "cell_type": "code",
   "execution_count": null,
   "id": "b02d3d6c",
   "metadata": {},
   "outputs": [],
   "source": []
  }
 ],
 "metadata": {
  "kernelspec": {
   "display_name": "Python 3 (ipykernel)",
   "language": "python",
   "name": "python3"
  },
  "language_info": {
   "codemirror_mode": {
    "name": "ipython",
    "version": 3
   },
   "file_extension": ".py",
   "mimetype": "text/x-python",
   "name": "python",
   "nbconvert_exporter": "python",
   "pygments_lexer": "ipython3",
   "version": "3.10.4"
  }
 },
 "nbformat": 4,
 "nbformat_minor": 5
}
