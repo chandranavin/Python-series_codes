{
 "cells": [
  {
   "cell_type": "code",
   "execution_count": null,
   "id": "e44de67a",
   "metadata": {},
   "outputs": [],
   "source": [
    "# Typecode--Pythoncode\n",
    "\n",
    "# 'b'      = int    1 bytes   - signed char\n",
    "# 'B'      = int    1 bytes   - unsigned char\n",
    "# 'h'      = int    2 bytes   - signed short\n",
    "# 'H'      = int    2 bytes   - unsigned short\n",
    "# 'i'      = int    2 bytes   - signed int\n",
    "# 'I'      = int    2 bytes   - unsigned int\n",
    "# 'l'      = int    4 bytes   - signed long\n",
    "# 'L'      = int    4 bytes   - unsigned long\n",
    "# 'f'      = float  4 bytes   - float\n",
    "# 'd'      = float  8 bytes   - double\n",
    "# 'u'      = unicode character  2 bytes  -py unicode"
   ]
  },
  {
   "cell_type": "code",
   "execution_count": 32,
   "id": "c1fb9ad4",
   "metadata": {},
   "outputs": [
    {
     "name": "stdout",
     "output_type": "stream",
     "text": [
      "array('i', [1, 2, 5, 8, 6, 7])\n",
      "i\n",
      "5\n",
      "1\n",
      "1 2 5 8 6 7 1 2 5 8 6 7 "
     ]
    }
   ],
   "source": [
    "from array import *\n",
    "\n",
    "val = array('i', [1,2, 5,8,6,7])\n",
    "print(val)\n",
    "print(val.typecode)\n",
    "print(val[2])\n",
    "print(val[0])\n",
    "\n",
    "for i in range(len(val)): # this will print value from 1 to 5\n",
    "    print(val[i], end=\" \")\n",
    "    \n",
    "for i in val:\n",
    "    print(i, end=\" \")"
   ]
  },
  {
   "cell_type": "code",
   "execution_count": 23,
   "id": "b0359468",
   "metadata": {},
   "outputs": [
    {
     "name": "stdout",
     "output_type": "stream",
     "text": [
      "u\n",
      "a\n",
      "e\n",
      "i\n",
      "o\n",
      "u\n"
     ]
    }
   ],
   "source": [
    "val1 = array('u',['a','e','i','o','u'])\n",
    "\n",
    "print(val1.typecode)\n",
    "\n",
    "for i in val1:\n",
    "    print(i)"
   ]
  },
  {
   "cell_type": "code",
   "execution_count": 34,
   "id": "09572b3e",
   "metadata": {},
   "outputs": [
    {
     "name": "stdout",
     "output_type": "stream",
     "text": [
      "8\n",
      "1\n",
      "2\n",
      "3\n",
      "4\n",
      "5\n",
      "6\n",
      "7\n",
      "8\n",
      "array('i', [1, 2, 3, 4, 5, 6, 7, 8])\n"
     ]
    }
   ],
   "source": [
    "# taking user input in array\n",
    "val2 = array('i', [])\n",
    "\n",
    "n= int(input())\n",
    "\n",
    "for i in range(n):\n",
    "    x=int(input())\n",
    "    val2.append(x)\n",
    "    \n",
    "print(val2)"
   ]
  },
  {
   "cell_type": "code",
   "execution_count": 40,
   "id": "fe9c8658",
   "metadata": {},
   "outputs": [
    {
     "name": "stdout",
     "output_type": "stream",
     "text": [
      "enter the no you want to search from val2:- 7\n",
      "index of  7  is:-  6\n"
     ]
    }
   ],
   "source": [
    "# searching index in arrya\n",
    "\n",
    "val3 = int(input(\"enter the no you want to search from val2:- \"))\n",
    "index = 0\n",
    "for e in val2:\n",
    "    if e==val3:\n",
    "        print(\"index of \",val3, \" is:- \", index)\n",
    "        break\n",
    "    index+=1"
   ]
  },
  {
   "cell_type": "code",
   "execution_count": null,
   "id": "59dee9f1",
   "metadata": {},
   "outputs": [],
   "source": []
  }
 ],
 "metadata": {
  "kernelspec": {
   "display_name": "Python 3 (ipykernel)",
   "language": "python",
   "name": "python3"
  },
  "language_info": {
   "codemirror_mode": {
    "name": "ipython",
    "version": 3
   },
   "file_extension": ".py",
   "mimetype": "text/x-python",
   "name": "python",
   "nbconvert_exporter": "python",
   "pygments_lexer": "ipython3",
   "version": "3.10.1"
  }
 },
 "nbformat": 4,
 "nbformat_minor": 5
}
