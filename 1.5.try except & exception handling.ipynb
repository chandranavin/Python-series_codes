{
 "cells": [
  {
   "cell_type": "code",
   "execution_count": 35,
   "id": "3a3a0de4",
   "metadata": {},
   "outputs": [],
   "source": [
    "# except will continue the program when there is any error"
   ]
  },
  {
   "cell_type": "code",
   "execution_count": 36,
   "id": "a995ff1d",
   "metadata": {},
   "outputs": [
    {
     "name": "stdout",
     "output_type": "stream",
     "text": [
      "45\n",
      "k\n",
      "Print this, it is mandatory\n"
     ]
    }
   ],
   "source": [
    "num1 = input()\n",
    "num2 = input()\n",
    "try:\n",
    "    print(int(num1) +int(num2))\n",
    "except:\n",
    "    print(\"Print this, it is mandatory\")  ###### this will be printed only when try will not work"
   ]
  },
  {
   "cell_type": "code",
   "execution_count": 37,
   "id": "9bdc74b0",
   "metadata": {},
   "outputs": [],
   "source": [
    "# ----except Exception as----- Exception is used to continue the program weather there is any error or not"
   ]
  },
  {
   "cell_type": "code",
   "execution_count": 38,
   "id": "6031d2f6",
   "metadata": {},
   "outputs": [
    {
     "name": "stdout",
     "output_type": "stream",
     "text": [
      "kk\n",
      "j\n",
      "invalid literal for int() with base 10: 'kk'\n",
      "Print this, it is mandatory\n"
     ]
    }
   ],
   "source": [
    "num1 = input()\n",
    "num2 = input()\n",
    "try:\n",
    "    print(int(num1) +int(num2))\n",
    "except Exception as e:\n",
    "    print(e)   ################################# this will print the error if any\n",
    "print(\"Print this, it is mandatory\")"
   ]
  },
  {
   "cell_type": "code",
   "execution_count": 39,
   "id": "5f5fc09f",
   "metadata": {},
   "outputs": [
    {
     "name": "stdout",
     "output_type": "stream",
     "text": [
      "45\n",
      "j\n",
      "45j\n"
     ]
    }
   ],
   "source": [
    "# this will print weather input is integer or string\n",
    "a = input()\n",
    "b = input()\n",
    "try:\n",
    "    print(int(a) + int(b))\n",
    "except:\n",
    "    print(a + b)"
   ]
  },
  {
   "cell_type": "code",
   "execution_count": null,
   "id": "9f1f72e9",
   "metadata": {},
   "outputs": [],
   "source": []
  }
 ],
 "metadata": {
  "kernelspec": {
   "display_name": "Python 3 (ipykernel)",
   "language": "python",
   "name": "python3"
  },
  "language_info": {
   "codemirror_mode": {
    "name": "ipython",
    "version": 3
   },
   "file_extension": ".py",
   "mimetype": "text/x-python",
   "name": "python",
   "nbconvert_exporter": "python",
   "pygments_lexer": "ipython3",
   "version": "3.10.1"
  }
 },
 "nbformat": 4,
 "nbformat_minor": 5
}
