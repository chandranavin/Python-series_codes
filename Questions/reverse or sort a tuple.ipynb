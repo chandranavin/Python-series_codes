{
 "cells": [
  {
   "cell_type": "code",
   "execution_count": 1,
   "id": "ddfb82f8",
   "metadata": {},
   "outputs": [
    {
     "ename": "AttributeError",
     "evalue": "'tuple' object has no attribute 'reverse'",
     "output_type": "error",
     "traceback": [
      "\u001b[1;31m---------------------------------------------------------------------------\u001b[0m",
      "\u001b[1;31mAttributeError\u001b[0m                            Traceback (most recent call last)",
      "Input \u001b[1;32mIn [1]\u001b[0m, in \u001b[0;36m<cell line: 2>\u001b[1;34m()\u001b[0m\n\u001b[0;32m      1\u001b[0m t \u001b[38;5;241m=\u001b[39m (\u001b[38;5;241m10\u001b[39m,\u001b[38;5;241m12\u001b[39m,\u001b[38;5;241m1\u001b[39m,\u001b[38;5;241m48\u001b[39m,\u001b[38;5;241m63\u001b[39m,\u001b[38;5;241m12\u001b[39m,\u001b[38;5;241m49\u001b[39m,\u001b[38;5;241m45\u001b[39m,\u001b[38;5;241m21\u001b[39m,\u001b[38;5;241m90\u001b[39m,\u001b[38;5;241m17\u001b[39m,\u001b[38;5;241m6\u001b[39m,\u001b[38;5;241m32\u001b[39m)\n\u001b[1;32m----> 2\u001b[0m \u001b[43mt\u001b[49m\u001b[38;5;241;43m.\u001b[39;49m\u001b[43mreverse\u001b[49m()\n\u001b[0;32m      3\u001b[0m \u001b[38;5;28mprint\u001b[39m(t)\n",
      "\u001b[1;31mAttributeError\u001b[0m: 'tuple' object has no attribute 'reverse'"
     ]
    }
   ],
   "source": [
    "t = (10,12,1,48,63,12,49,45,21,90,17,6,32)\n",
    "t.reverse()                                  # this will throw an error as we cannot reverse a tuple\n",
    "print(t)"
   ]
  },
  {
   "cell_type": "code",
   "execution_count": 13,
   "id": "ae5a9065",
   "metadata": {},
   "outputs": [
    {
     "name": "stdout",
     "output_type": "stream",
     "text": [
      "(32, 6, 17, 90, 21, 45, 49, 12, 63, 48, 1, 12, 10)\n",
      "<class 'tuple'>\n"
     ]
    }
   ],
   "source": [
    "t = (10,12,1,48,63,12,49,45,21,90,17,6,32)\n",
    "l = list(t)                                   # we need to typecast the tuple into list to reverse the tuple\n",
    "l.reverse() \n",
    "l = tuple(l)                                          # and again will typecast the list into tuple\n",
    "print(l)\n",
    "print(type(l))"
   ]
  },
  {
   "cell_type": "code",
   "execution_count": 14,
   "id": "f94da983",
   "metadata": {},
   "outputs": [
    {
     "name": "stdout",
     "output_type": "stream",
     "text": [
      "(1, 6, 10, 12, 12, 17, 21, 32, 45, 48, 49, 63, 90)\n",
      "<class 'tuple'>\n"
     ]
    }
   ],
   "source": [
    "t = (10,12,1,48,63,12,49,45,21,90,17,6,32)\n",
    "l = list(t)                                   # we need to typecast the tuple into list to sort the tuple\n",
    "l.sort() \n",
    "l = tuple(l)                                          # and again will typecast the list into tuple\n",
    "print(l)\n",
    "print(type(l))"
   ]
  },
  {
   "cell_type": "code",
   "execution_count": null,
   "id": "60a60b63",
   "metadata": {},
   "outputs": [],
   "source": []
  }
 ],
 "metadata": {
  "kernelspec": {
   "display_name": "Python 3 (ipykernel)",
   "language": "python",
   "name": "python3"
  },
  "language_info": {
   "codemirror_mode": {
    "name": "ipython",
    "version": 3
   },
   "file_extension": ".py",
   "mimetype": "text/x-python",
   "name": "python",
   "nbconvert_exporter": "python",
   "pygments_lexer": "ipython3",
   "version": "3.10.4"
  }
 },
 "nbformat": 4,
 "nbformat_minor": 5
}
